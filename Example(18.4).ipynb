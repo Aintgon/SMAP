{
 "cells": [
  {
   "cell_type": "code",
   "execution_count": 1,
   "metadata": {},
   "outputs": [],
   "source": [
    "from sympy import *\n",
    "from sympy import init_printing\n",
    "init_printing()\n",
    "import numpy as np\n",
    "from numpy import *\n",
    "from scipy import special, optimize\n",
    "from scipy.special import *\n",
    "from fractions import Fraction"
   ]
  },
  {
   "cell_type": "code",
   "execution_count": 2,
   "metadata": {},
   "outputs": [],
   "source": [
    "p=-Fraction(3,2)\n",
    "b=Fraction(7,100)\n",
    "sigma=Fraction(25,100)\n",
    "vsig=-Fraction(4,100)\n",
    "r=Fraction(2,100)\n",
    "c=3\n",
    "bta=Fraction(3,100)"
   ]
  },
  {
   "cell_type": "code",
   "execution_count": 3,
   "metadata": {},
   "outputs": [
    {
     "data": {
      "image/png": "[encoded data removed]",
      "text/latex": [
       "$\\displaystyle \\left( 0.2967292770068063, \\  7322.720440666773, \\  0.028453193557581948\\right)$"
      ],
      "text/plain": [
       "(0.2967292770068063, 7322.720440666773, 0.028453193557581948)"
      ]
     },
     "execution_count": 3,
     "metadata": {},
     "output_type": "execute_result"
    }
   ],
   "source": [
    "F1=(b-r)/((1-p)*sigma**2)\n",
    "F2=1/((1-p)*sigma**2)\n",
    "JI=lambda y:((1+y*vsig)**(p-1)-1)*c*vsig\n",
    "x=optimize.brentq(lambda z: z-F1-F2*JI(z),0,1)\n",
    "A=(bta/(1-p)-p*(x*b+r*(1-x))/(1-p)+(1/2)*sigma**2*x**2*p-(1/(1-p))*c*((1+vsig*x)**p-1-x*p*vsig))**(p-1)\n",
    "LOC=(x,A,A**(1/(p-1)))\n",
    "LOC"
   ]
  },
  {
   "cell_type": "code",
   "execution_count": null,
   "metadata": {
    "collapsed": true
   },
   "outputs": [],
   "source": []
  },
  {
   "cell_type": "code",
   "execution_count": null,
   "metadata": {},
   "outputs": [],
   "source": []
  },
  {
   "cell_type": "code",
   "execution_count": 1,
   "metadata": {},
   "outputs": [
    {
     "data": {
      "text/plain": [
       "(0.2967292770068063, 7322.720440666773, 0.028453193557581948)"
      ]
     },
     "execution_count": 1,
     "metadata": {},
     "output_type": "execute_result"
    }
   ],
   "source": [
    "(0.2967292770068063,7322.720440666773,0.028453193557581948)"
   ]
  },
  {
   "cell_type": "code",
   "execution_count": null,
   "metadata": {},
   "outputs": [],
   "source": []
  }
 ],
 "metadata": {
  "kernelspec": {
   "display_name": "Python 3",
   "language": "python",
   "name": "python3"
  },
  "language_info": {
   "codemirror_mode": {
    "name": "ipython",
    "version": 3
   },
   "file_extension": ".py",
   "mimetype": "text/x-python",
   "name": "python",
   "nbconvert_exporter": "python",
   "pygments_lexer": "ipython3",
   "version": "3.9.2"
  }
 },
 "nbformat": 4,
 "nbformat_minor": 2
}
