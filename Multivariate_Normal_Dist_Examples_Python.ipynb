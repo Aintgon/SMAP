{
 "cells": [
  {
   "cell_type": "markdown",
   "metadata": {},
   "source": [
    "#### MIT License (c) 2018 by Andrew Lyasoff "
   ]
  },
  {
   "cell_type": "markdown",
   "metadata": {},
   "source": [
    "#### Jupyter notebook written in Python 3. It illustrates the simulation of multivariate normal samples with a given covariance matrix, and also the construction of univariate histograms."
   ]
  },
  {
   "cell_type": "code",
   "execution_count": 1,
   "metadata": {},
   "outputs": [],
   "source": [
    "from sympy import init_printing\n",
    "init_printing()\n",
    "import json\n",
    "import numpy as np\n",
    "from numpy import *"
   ]
  },
  {
   "cell_type": "markdown",
   "metadata": {},
   "source": [
    "Read the file that contains the covariance matrix (adjust the path in the next line accordingly)."
   ]
  },
  {
   "cell_type": "code",
   "execution_count": 2,
   "metadata": {},
   "outputs": [
    {
     "data": {
      "text/plain": [
       "array([[ 0.034969 ,  0.0314721,  0.       ,  0.       ],\n",
       "       [ 0.0314721,  0.034969 ,  0.       ,  0.       ],\n",
       "       [ 0.       ,  0.       ,  1.0630576, -0.5315288],\n",
       "       [ 0.       ,  0.       , -0.5315288,  0.559504 ]])"
      ]
     },
     "execution_count": 2,
     "metadata": {},
     "output_type": "execute_result"
    }
   ],
   "source": [
    "file = open('Cov.json','r')\n",
    "Cov=array(json.load(file))\n",
    "Cov"
   ]
  },
  {
   "cell_type": "markdown",
   "metadata": {},
   "source": [
    "First check if this is indeed a covariance matrix:"
   ]
  },
  {
   "cell_type": "code",
   "execution_count": 3,
   "metadata": {},
   "outputs": [
    {
     "data": {
      "text/plain": [
       "array([[0., 0., 0., 0.],\n",
       "       [0., 0., 0., 0.],\n",
       "       [0., 0., 0., 0.],\n",
       "       [0., 0., 0., 0.]])"
      ]
     },
     "execution_count": 3,
     "metadata": {},
     "output_type": "execute_result"
    }
   ],
   "source": [
    "Cov-Cov.T"
   ]
  },
  {
   "cell_type": "markdown",
   "metadata": {},
   "source": [
    "It is indeed selfadjoint. Now check its rank."
   ]
  },
  {
   "cell_type": "code",
   "execution_count": 4,
   "metadata": {},
   "outputs": [
    {
     "data": {
      "text/plain": [
       "4"
      ]
     },
     "execution_count": 4,
     "metadata": {},
     "output_type": "execute_result"
    }
   ],
   "source": [
    "rnk=np.linalg.matrix_rank(Cov)\n",
    "rnk"
   ]
  },
  {
   "cell_type": "markdown",
   "metadata": {},
   "source": [
    "You can also find the eigenvalues and the associated eigenvectors."
   ]
  },
  {
   "cell_type": "code",
   "execution_count": 5,
   "metadata": {},
   "outputs": [
    {
     "data": {
      "text/plain": [
       "(array([0.0664411, 0.0034969, 1.3994257, 0.2231359]),\n",
       " array([[ 0.70710678, -0.70710678,  0.        ,  0.        ],\n",
       "        [ 0.70710678,  0.70710678,  0.        ,  0.        ],\n",
       "        [ 0.        ,  0.        ,  0.84501075,  0.53474931],\n",
       "        [ 0.        ,  0.        , -0.53474931,  0.84501075]]))"
      ]
     },
     "execution_count": 5,
     "metadata": {},
     "output_type": "execute_result"
    }
   ],
   "source": [
    "np.linalg.eig(Cov)"
   ]
  },
  {
   "cell_type": "markdown",
   "metadata": {},
   "source": [
    "Or simply compute the determinant."
   ]
  },
  {
   "cell_type": "code",
   "execution_count": 6,
   "metadata": {},
   "outputs": [
    {
     "data": {
      "image/png": "[encoded data removed]",
      "text/latex": [
       "$$7.255031842652773e-05$$"
      ],
      "text/plain": [
       "7.255031842652773e-05"
      ]
     },
     "execution_count": 6,
     "metadata": {},
     "output_type": "execute_result"
    }
   ],
   "source": [
    "np.linalg.det(Cov)"
   ]
  },
  {
   "cell_type": "markdown",
   "metadata": {},
   "source": [
    "Now find the Cholesky decomposition:"
   ]
  },
  {
   "cell_type": "code",
   "execution_count": 7,
   "metadata": {},
   "outputs": [
    {
     "data": {
      "text/plain": [
       "array([[ 0.187     ,  0.        ,  0.        ,  0.        ],\n",
       "       [ 0.1683    ,  0.08151141,  0.        ,  0.        ],\n",
       "       [ 0.        ,  0.        ,  1.03104685,  0.        ],\n",
       "       [ 0.        ,  0.        , -0.51552342,  0.54197749]])"
      ]
     },
     "execution_count": 7,
     "metadata": {},
     "output_type": "execute_result"
    }
   ],
   "source": [
    "CovU=np.linalg.cholesky(Cov)\n",
    "CovU"
   ]
  },
  {
   "cell_type": "markdown",
   "metadata": {},
   "source": [
    "Test if this is what you want:"
   ]
  },
  {
   "cell_type": "code",
   "execution_count": 8,
   "metadata": {},
   "outputs": [
    {
     "data": {
      "text/plain": [
       "array([[0.00000000e+00, 0.00000000e+00, 0.00000000e+00, 0.00000000e+00],\n",
       "       [0.00000000e+00, 0.00000000e+00, 0.00000000e+00, 0.00000000e+00],\n",
       "       [0.00000000e+00, 0.00000000e+00, 0.00000000e+00, 0.00000000e+00],\n",
       "       [0.00000000e+00, 0.00000000e+00, 0.00000000e+00, 1.11022302e-16]])"
      ]
     },
     "execution_count": 8,
     "metadata": {},
     "output_type": "execute_result"
    }
   ],
   "source": [
    "dot((CovU),CovU.T)-Cov"
   ]
  },
  {
   "cell_type": "markdown",
   "metadata": {},
   "source": [
    "The next function generates a Gaussian vector with independent standard normal (${\\cal N}(0,1)$) components (the exact dimension is supplied as an argument)."
   ]
  },
  {
   "cell_type": "code",
   "execution_count": 9,
   "metadata": {},
   "outputs": [],
   "source": [
    "def gauss_vec(dimen):\n",
    "    vec=[]\n",
    "    for i in range(dimen):\n",
    "        vec+=[np.random.normal(0,1)]\n",
    "    return vec\n"
   ]
  },
  {
   "cell_type": "code",
   "execution_count": 10,
   "metadata": {},
   "outputs": [
    {
     "data": {
      "image/png": "[encoded data removed]",
      "text/latex": [
       "$$\\left [ -0.9924229547646425, \\quad -1.4073594627487616, \\quad -0.49464036790655724\\right ]$$"
      ],
      "text/plain": [
       "[-0.9924229547646425, -1.4073594627487616, -0.49464036790655724]"
      ]
     },
     "execution_count": 10,
     "metadata": {},
     "output_type": "execute_result"
    }
   ],
   "source": [
    "gauss_vec(3)"
   ]
  },
  {
   "cell_type": "code",
   "execution_count": 11,
   "metadata": {},
   "outputs": [
    {
     "data": {
      "image/png": "[encoded data removed]",
      "text/latex": [
       "$$\\left [ 0.9425322052932438, \\quad 0.6407443334910125, \\quad 1.3980819086991403, \\quad -2.3820761017447283\\right ]$$"
      ],
      "text/plain": [
       "[0.9425322052932438, 0.6407443334910125, 1.3980819086991403, -2.38207610174472\n",
       "83]"
      ]
     },
     "execution_count": 11,
     "metadata": {},
     "output_type": "execute_result"
    }
   ],
   "source": [
    "gauss_vec(rnk)"
   ]
  },
  {
   "cell_type": "markdown",
   "metadata": {},
   "source": [
    "Now create a sample from a Gaussian vector with covariance matrix Cov."
   ]
  },
  {
   "cell_type": "code",
   "execution_count": 12,
   "metadata": {},
   "outputs": [
    {
     "data": {
      "text/plain": [
       "array([ 0.09825125,  0.06657924, -0.99930286,  0.47786305])"
      ]
     },
     "execution_count": 12,
     "metadata": {},
     "output_type": "execute_result"
    }
   ],
   "source": [
    "dot((CovU),gauss_vec(rnk))"
   ]
  },
  {
   "cell_type": "code",
   "execution_count": 13,
   "metadata": {},
   "outputs": [
    {
     "data": {
      "image/png": "[encoded data removed]",
      "text/latex": [
       "$$\\left [ -0.01509920188552929, \\quad 0.0017175330456032818, \\quad -0.5284899892595436, \\quad 0.030518696516023985\\right ]$$"
      ],
      "text/plain": [
       "[-0.01509920188552929, 0.0017175330456032818, -0.5284899892595436, 0.030518696\n",
       "516023985]"
      ]
     },
     "execution_count": 13,
     "metadata": {},
     "output_type": "execute_result"
    }
   ],
   "source": [
    "list(dot((CovU),gauss_vec(rnk)))"
   ]
  },
  {
   "cell_type": "markdown",
   "metadata": {},
   "source": [
    "Now we do the same by using the $LDL^\\dagger$ decomposition."
   ]
  },
  {
   "cell_type": "code",
   "execution_count": 14,
   "metadata": {},
   "outputs": [],
   "source": [
    "D,U=np.linalg.eig(Cov)"
   ]
  },
  {
   "cell_type": "code",
   "execution_count": 15,
   "metadata": {},
   "outputs": [],
   "source": [
    "CovL=dot(U,diag(sqrt(D)))"
   ]
  },
  {
   "cell_type": "markdown",
   "metadata": {},
   "source": [
    "Check if this indeed the intended matrix:"
   ]
  },
  {
   "cell_type": "code",
   "execution_count": 16,
   "metadata": {},
   "outputs": [
    {
     "data": {
      "text/plain": [
       "array([[-6.93889390e-18,  6.93889390e-18,  0.00000000e+00,\n",
       "         0.00000000e+00],\n",
       "       [ 6.93889390e-18,  6.93889390e-18,  0.00000000e+00,\n",
       "         0.00000000e+00],\n",
       "       [ 0.00000000e+00,  0.00000000e+00,  2.22044605e-16,\n",
       "        -1.11022302e-16],\n",
       "       [ 0.00000000e+00,  0.00000000e+00, -1.11022302e-16,\n",
       "         1.11022302e-16]])"
      ]
     },
     "execution_count": 16,
     "metadata": {},
     "output_type": "execute_result"
    }
   ],
   "source": [
    "dot((CovL),CovL.T)-Cov"
   ]
  },
  {
   "cell_type": "code",
   "execution_count": 17,
   "metadata": {},
   "outputs": [
    {
     "data": {
      "image/png": "[encoded data removed]",
      "text/latex": [
       "$$\\left [ 0.03735058468651074, \\quad 0.03263401557080993, \\quad 0.9829630815964001, \\quad -0.3967580195029329\\right ]$$"
      ],
      "text/plain": [
       "[0.03735058468651074, 0.03263401557080993, 0.9829630815964001, -0.396758019502\n",
       "9329]"
      ]
     },
     "execution_count": 17,
     "metadata": {},
     "output_type": "execute_result"
    }
   ],
   "source": [
    "list(dot((Cov),gauss_vec(rnk)))"
   ]
  },
  {
   "cell_type": "code",
   "execution_count": null,
   "metadata": {},
   "outputs": [],
   "source": []
  }
 ],
 "metadata": {
  "kernelspec": {
   "display_name": "Python 3",
   "language": "python",
   "name": "python3"
  },
  "language_info": {
   "codemirror_mode": {
    "name": "ipython",
    "version": 3
   },
   "file_extension": ".py",
   "mimetype": "text/x-python",
   "name": "python",
   "nbconvert_exporter": "python",
   "pygments_lexer": "ipython3",
   "version": "3.6.4"
  }
 },
 "nbformat": 4,
 "nbformat_minor": 1
}
