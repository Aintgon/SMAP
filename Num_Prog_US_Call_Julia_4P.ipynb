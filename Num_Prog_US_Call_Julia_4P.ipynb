{
 "cells": [
  {
   "cell_type": "markdown",
   "metadata": {},
   "source": [
    "#### MIT License (c) 2017 by Andrew Lyasoff"
   ]
  },
  {
   "cell_type": "markdown",
   "metadata": {},
   "source": [
    "#### Jupyter notebook written in the Julia 0.6.2. It implements the numerical program for computing the exercise boundary of an American-style call option described in Sec. 18.4 of my book \"Stochastic Methods in Asset Pricing\" (pp. 514-516). The same program is implemented in Python in Appendix B.3 of the book. The present implementation uses 4 parallel processes and is only marginally faster than the implementation on a single process (which is about 4 times faster than the implementation in Python given in the book)."
   ]
  },
  {
   "cell_type": "code",
   "execution_count": 1,
   "metadata": {},
   "outputs": [],
   "source": [
    "addprocs(4);"
   ]
  },
  {
   "cell_type": "code",
   "execution_count": 2,
   "metadata": {},
   "outputs": [],
   "source": [
    "@everywhere using SpecialFunctions\n",
    "@everywhere K=40;\n",
    "@everywhere σ=3/10;\n",
    "@everywhere δ=7/100;\n",
    "@everywhere r=2/100;\n",
    "@everywhere T=1/2;\n",
    "@everywhere using Interpolations"
   ]
  },
  {
   "cell_type": "code",
   "execution_count": 3,
   "metadata": {},
   "outputs": [],
   "source": [
    "@everywhere function ix(n::Number)\n",
    "    lcl=[(n-1)*1250+1,n*1250]\n",
    "    return lcl\n",
    "end"
   ]
  },
  {
   "cell_type": "markdown",
   "metadata": {},
   "source": [
    "## Initialize the procedure"
   ]
  },
  {
   "cell_type": "code",
   "execution_count": 4,
   "metadata": {},
   "outputs": [],
   "source": [
    "@everywhere Δ=T/5000\n",
    "absc=0.0:Δ:T;\n",
    "val=[max(K,K*(r/δ)) for x in absc];\n",
    "itp = interpolate(val, BSpline(Cubic(Natural())), OnGrid());\n",
    "f=scale(itp,absc);\n",
    "#f=t->fi[t];\n",
    "EC=(S,t,K,σ,r,δ)->(1/2)*sqrt(pi)*((erf(1/4*sqrt(2)*((σ^2 - 2*δ + 2*r)*t - 2*log(K/S))/(σ*sqrt(t)))*exp(-(δ - r)*t) + exp(-(δ - r)*t))*S + K*erf(1/4*sqrt(2)*((σ^2 + 2*δ - 2*r)*t + 2*log(K/S))/(σ*sqrt(t))) - K)*sqrt(t)*exp(-r*t)/sqrt(pi*t);\n",
    "F=(ϵ,t,u,v,r,δ,σ)-> erf(ϵ/4*sqrt(2)*σ*sqrt(-t + u)-(1/2)*sqrt(2)*δ*sqrt(-t + u)/σ + (1/2)*sqrt(2)*r*sqrt(-t + u)/σ - (1/2)*sqrt(2)*log(v)/(σ*sqrt(-t + u)))+1;\n",
    "ah=(t,z)->(exp(-δ*(z-t))*(δ/2)*F(1,t,z,f[z]/f[t],r,δ,σ));\n",
    "bh=(t,z)->(exp(-r*(z-t))*(r*K/2)*F(-1,t,z,f[z]/f[t],r,δ,σ));\n",
    "for i=2:5\n",
    "    remotecall_fetch(()->f, i)\n",
    "    remotecall_fetch(()->EC, i)\n",
    "    remotecall_fetch(()->F, i)\n",
    "    remotecall_fetch(()->ah, i)\n",
    "    remotecall_fetch(()->bh, i)\n",
    "end"
   ]
  },
  {
   "cell_type": "markdown",
   "metadata": {},
   "source": [
    "N.B.: $\\int_a^bf(t)dt={1\\over2}(b-a)\\int_{-1}^{+1}f\\bigl({1\\over2}(b-a)s+{1\\over2}(a+b)\\bigr)d s$"
   ]
  },
  {
   "cell_type": "code",
   "execution_count": 5,
   "metadata": {},
   "outputs": [],
   "source": [
    "@everywhere using Roots\n",
    "@everywhere using FastGaussQuadrature\n",
    "@everywhere nodes,weights=gausslegendre( 200 );"
   ]
  },
  {
   "cell_type": "markdown",
   "metadata": {},
   "source": [
    "## Define the function to call in each separate process"
   ]
  },
  {
   "cell_type": "code",
   "execution_count": 6,
   "metadata": {},
   "outputs": [],
   "source": [
    "@everywhere function mainF()\n",
    "    bounds=ix(myid()-1)\n",
    "    loc=[]\n",
    "    for j=bounds[1]:1:bounds[2]\n",
    "        ttt=(j-1)*Δ\n",
    "        an=map(s->(1/2)*(T-ttt)*ah(ttt,(1/2)*(T-ttt)*s+(1/2)*(ttt+T)),nodes);\n",
    "        bn=map(s->(1/2)*(T-ttt)*bh(ttt,(1/2)*(T-ttt)*s+(1/2)*(ttt+T)),nodes);\n",
    "        aaa=dot(weights,an);\n",
    "        bbb=dot(weights,bn);\n",
    "        LRT=fzero(x->x-K-EC(x,T-ttt,K,σ,r,δ)-aaa*x+bbb,K-1,K+15);\n",
    "        loc=vcat(loc,[LRT])\n",
    "    end\n",
    "    return loc\n",
    "end"
   ]
  },
  {
   "cell_type": "markdown",
   "metadata": {},
   "source": [
    "## Now perform the iterations, splitting the work in every iteration among the 4 processes."
   ]
  },
  {
   "cell_type": "code",
   "execution_count": 7,
   "metadata": {},
   "outputs": [
    {
     "name": "stdout",
     "output_type": "stream",
     "text": [
      "  6.726653 seconds (529.70 k allocations: 35.926 MiB, 0.07% gc time)\n"
     ]
    }
   ],
   "source": [
    "@time for iter=1:10\n",
    "    lst=[@spawnat i mainF() for i=2:5];\n",
    "    val0=[fetch(lst[i]) for i=1:4];\n",
    "    val=[];\n",
    "    for i=1:length(val0)\n",
    "        val=vcat(val,val0[i]);\n",
    "    end\n",
    "    val=vcat(val,[max(K,K*(r/δ))]);\n",
    "    zval=[val[i] for i=1:length(val)];\n",
    "    itp=interpolate(zval, BSpline(Cubic(Natural())), OnGrid());\n",
    "    f=scale(itp,absc);\n",
    "    ah=(t,z)->(exp(-δ*(z-t))*(δ/2)*F(1,t,z,f[z]/f[t],r,δ,σ));\n",
    "    bh=(t,z)->(exp(-r*(z-t))*(r*K/2)*F(-1,t,z,f[z]/f[t],r,δ,σ));\n",
    "    for i=2:5\n",
    "        remotecall_fetch(()->f, i)\n",
    "        remotecall_fetch(()->ah, i)\n",
    "        remotecall_fetch(()->bh, i)\n",
    "    end\n",
    "end     "
   ]
  },
  {
   "cell_type": "markdown",
   "metadata": {},
   "source": [
    "## Illustrate the result"
   ]
  },
  {
   "cell_type": "code",
   "execution_count": 8,
   "metadata": {},
   "outputs": [],
   "source": [
    "using PyPlot"
   ]
  },
  {
   "cell_type": "code",
   "execution_count": 9,
   "metadata": {},
   "outputs": [
    {
     "data": {
      "image/png": "[encoded data removed]",
      "text/plain": [
       "PyPlot.Figure(PyObject <Figure size 640x480 with 1 Axes>)"
      ]
     },
     "metadata": {},
     "output_type": "display_data"
    },
    {
     "data": {
      "text/plain": [
       "1-element Array{PyCall.PyObject,1}:\n",
       " PyObject <matplotlib.lines.Line2D object at 0x7f3305c1cd10>"
      ]
     },
     "execution_count": 9,
     "metadata": {},
     "output_type": "execute_result"
    }
   ],
   "source": [
    "ff=t->f[t]\n",
    "x = linspace(0.0,0.5,2000)\n",
    "y = ff.(x)\n",
    "plot(x, y, \"k-\", linewidth=1)"
   ]
  },
  {
   "cell_type": "code",
   "execution_count": null,
   "metadata": {},
   "outputs": [],
   "source": []
  }
 ],
 "metadata": {
  "kernelspec": {
   "display_name": "Julia 0.6.2",
   "language": "julia",
   "name": "julia-0.6"
  },
  "language_info": {
   "file_extension": ".jl",
   "mimetype": "application/julia",
   "name": "julia",
   "version": "0.6.2"
  }
 },
 "nbformat": 4,
 "nbformat_minor": 1
}
