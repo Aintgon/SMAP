{
 "cells": [
  {
   "cell_type": "markdown",
   "metadata": {},
   "source": [
    "#### MIT License.  (C) 2017 by Andrew Lyasoff."
   ]
  },
  {
   "cell_type": "markdown",
   "metadata": {},
   "source": [
    "#### Jupyter notebook written in Julia 0.6.2. It implements the numerical program for computing the exercise boundary of an American-style call option described in Sec. 18.4 of my book \"Stochastic Methods in Asset Pricing\" (pp. 514-516). The same program is implemented in Python in Appendix B.3 of the book. The present implementation uses a single process and is about 4 times faster than the implementation in Python given in the book."
   ]
  },
  {
   "cell_type": "code",
   "execution_count": 1,
   "metadata": {},
   "outputs": [],
   "source": [
    "using SpecialFunctions"
   ]
  },
  {
   "cell_type": "code",
   "execution_count": 2,
   "metadata": {},
   "outputs": [],
   "source": [
    "EC=(S,t,K,σ,r,δ)->(1/2)*sqrt(pi)*((erf(1/4*sqrt(2)*((σ^2 - 2*δ + 2*r)*t - 2*log(K/S))/(σ*sqrt(t)))*exp(-(δ - r)*t) + exp(-(δ - r)*t))*S + K*erf(1/4*sqrt(2)*((σ^2 + 2*δ - 2*r)*t + 2*log(K/S))/(σ*sqrt(t))) - K)*sqrt(t)*exp(-r*t)/sqrt(pi*t);\n",
    "F=(ϵ,t,u,v,r,δ,σ)-> erf(ϵ/4*sqrt(2)*σ*sqrt(-t + u)-(1/2)*sqrt(2)*δ*sqrt(-t + u)/σ + (1/2)*sqrt(2)*r*sqrt(-t + u)/σ - (1/2)*sqrt(2)*log(v)/(σ*sqrt(-t + u)))+1;"
   ]
  },
  {
   "cell_type": "code",
   "execution_count": 3,
   "metadata": {},
   "outputs": [],
   "source": [
    "K=40;σ=3/10;δ=7/100;r=2/100;T=1/2;"
   ]
  },
  {
   "cell_type": "code",
   "execution_count": 4,
   "metadata": {},
   "outputs": [],
   "source": [
    "using Interpolations"
   ]
  },
  {
   "cell_type": "code",
   "execution_count": 5,
   "metadata": {},
   "outputs": [],
   "source": [
    "Δ=T/5000\n",
    "absc=0.0:Δ:T;\n",
    "absc0=0.0:Δ:T-Δ;\n",
    "val=[max(K,K*(r/δ)) for x in absc];\n",
    "itp = interpolate(val, BSpline(Cubic(Natural())), OnGrid());\n",
    "f=scale(itp,absc);\n",
    "#f=t->fi[t];\n",
    "ah=(t,z)->(exp(-δ*(z-t))*(δ/2)*F(1,t,z,f[z]/f[t],r,δ,σ));\n",
    "bh=(t,z)->(exp(-r*(z-t))*(r*K/2)*F(-1,t,z,f[z]/f[t],r,δ,σ));"
   ]
  },
  {
   "cell_type": "code",
   "execution_count": 6,
   "metadata": {},
   "outputs": [],
   "source": [
    "using Roots\n",
    "using FastGaussQuadrature\n",
    "nodes,weights=gausslegendre( 200 );"
   ]
  },
  {
   "cell_type": "markdown",
   "metadata": {},
   "source": [
    "N.B.: $\\int_a^bf(t)dt={1\\over2}(b-a)\\int_{-1}^{+1}f\\bigl({1\\over2}(b-a)s+{1\\over2}(a+b)\\bigr)d s$"
   ]
  },
  {
   "cell_type": "code",
   "execution_count": 7,
   "metadata": {},
   "outputs": [
    {
     "name": "stdout",
     "output_type": "stream",
     "text": [
      " 12.600319 seconds (554.58 M allocations: 9.490 GiB, 2.76% gc time)\n"
     ]
    }
   ],
   "source": [
    "global loc\n",
    "global val\n",
    "@time for iter=1:10\n",
    "    #println(iter)\n",
    "    loc=[max(K,K*(r/δ))]\n",
    "    for ttt=T-Δ:-Δ:0.0\n",
    "        #println(tt)\n",
    "        #ttt=h(tt)\n",
    "        an=map(s->(1/2)*(T-ttt)*ah(ttt,(1/2)*(T-ttt)*s+(1/2)*(ttt+T)),nodes);\n",
    "        bn=map(s->(1/2)*(T-ttt)*bh(ttt,(1/2)*(T-ttt)*s+(1/2)*(ttt+T)),nodes);\n",
    "        aaa=dot(weights,an);\n",
    "        bbb=dot(weights,bn);\n",
    "        LRT=fzero(x->x-K-EC(x,T-ttt,K,σ,r,δ)-aaa*x+bbb,K-1,K+15);\n",
    "        loc=vcat([LRT],loc)\n",
    "    end\n",
    "    val=loc;\n",
    "    #ff=f;\n",
    "    itp=interpolate(val, BSpline(Cubic(Natural())), OnGrid());\n",
    "    f=scale(itp,absc);\n",
    "    #f=t->fi[t];\n",
    "    ah=(t,z)->(exp(-δ*(z-t))*(δ/2)*F(1,t,z,f[z]/f[t],r,δ,σ));\n",
    "    bh=(t,z)->(exp(-r*(z-t))*(r*K/2)*F(-1,t,z,f[z]/f[t],r,δ,σ));\n",
    "    #println(iter)\n",
    "end"
   ]
  },
  {
   "cell_type": "code",
   "execution_count": 8,
   "metadata": {},
   "outputs": [],
   "source": [
    "using PyPlot"
   ]
  },
  {
   "cell_type": "code",
   "execution_count": 9,
   "metadata": {},
   "outputs": [
    {
     "data": {
      "image/png": "[encoded data removed]",
      "text/plain": [
       "PyPlot.Figure(PyObject <Figure size 640x480 with 1 Axes>)"
      ]
     },
     "metadata": {},
     "output_type": "display_data"
    },
    {
     "data": {
      "text/plain": [
       "1-element Array{PyCall.PyObject,1}:\n",
       " PyObject <matplotlib.lines.Line2D object at 0x7fef9f545d10>"
      ]
     },
     "execution_count": 9,
     "metadata": {},
     "output_type": "execute_result"
    }
   ],
   "source": [
    "ff=t->f[t]\n",
    "x = linspace(0.0,0.5,2000)\n",
    "y = ff.(x)\n",
    "plot(x, y, \"k-\", linewidth=1)"
   ]
  },
  {
   "cell_type": "markdown",
   "metadata": {},
   "source": [
    "## Test if the fixed point solution has been attained"
   ]
  },
  {
   "cell_type": "code",
   "execution_count": 10,
   "metadata": {},
   "outputs": [
    {
     "data": {
      "text/plain": [
       "(::#21) (generic function with 1 method)"
      ]
     },
     "execution_count": 10,
     "metadata": {},
     "output_type": "execute_result"
    }
   ],
   "source": [
    "gg=ff"
   ]
  },
  {
   "cell_type": "code",
   "execution_count": 11,
   "metadata": {},
   "outputs": [
    {
     "name": "stdout",
     "output_type": "stream",
     "text": [
      "  6.421567 seconds (277.19 M allocations: 4.740 GiB, 4.25% gc time)\n"
     ]
    }
   ],
   "source": [
    "global loc\n",
    "global val\n",
    "@time for iter=1:5\n",
    "    #println(iter)\n",
    "    loc=[max(K,K*(r/δ))]\n",
    "    for ttt=T-Δ:-Δ:0.0\n",
    "        #println(tt)\n",
    "        #ttt=h(tt)\n",
    "        an=map(s->(1/2)*(T-ttt)*ah(ttt,(1/2)*(T-ttt)*s+(1/2)*(ttt+T)),nodes);\n",
    "        bn=map(s->(1/2)*(T-ttt)*bh(ttt,(1/2)*(T-ttt)*s+(1/2)*(ttt+T)),nodes);\n",
    "        aaa=dot(weights,an);\n",
    "        bbb=dot(weights,bn);\n",
    "        LRT=fzero(x->x-K-EC(x,T-ttt,K,σ,r,δ)-aaa*x+bbb,K-1,K+15);\n",
    "        loc=vcat([LRT],loc)\n",
    "    end\n",
    "    val=loc;\n",
    "    #ff=f;\n",
    "    itp=interpolate(val, BSpline(Cubic(Natural())), OnGrid());\n",
    "    f=scale(itp,absc);\n",
    "    #f=t->fi[t];\n",
    "    ah=(t,z)->(exp(-δ*(z-t))*(δ/2)*F(1,t,z,f[z]/f[t],r,δ,σ));\n",
    "    bh=(t,z)->(exp(-r*(z-t))*(r*K/2)*F(-1,t,z,f[z]/f[t],r,δ,σ));\n",
    "    #println(iter)\n",
    "end"
   ]
  },
  {
   "cell_type": "code",
   "execution_count": 12,
   "metadata": {},
   "outputs": [
    {
     "data": {
      "image/png": "[encoded data removed]",
      "text/plain": [
       "PyPlot.Figure(PyObject <Figure size 640x480 with 1 Axes>)"
      ]
     },
     "metadata": {},
     "output_type": "display_data"
    },
    {
     "data": {
      "text/plain": [
       "1-element Array{PyCall.PyObject,1}:\n",
       " PyObject <matplotlib.lines.Line2D object at 0x7fef9f3f13d0>"
      ]
     },
     "execution_count": 12,
     "metadata": {},
     "output_type": "execute_result"
    }
   ],
   "source": [
    "ff=t->(f[t]-gg(t))\n",
    "x = linspace(0.0,0.5,2000)\n",
    "y = ff.(x)\n",
    "plot(x, y, \"k-\", linewidth=1)"
   ]
  },
  {
   "cell_type": "code",
   "execution_count": null,
   "metadata": {},
   "outputs": [],
   "source": []
  }
 ],
 "metadata": {
  "kernelspec": {
   "display_name": "Julia 0.6.2",
   "language": "julia",
   "name": "julia-0.6"
  },
  "language_info": {
   "file_extension": ".jl",
   "mimetype": "application/julia",
   "name": "julia",
   "version": "0.6.2"
  }
 },
 "nbformat": 4,
 "nbformat_minor": 1
}
