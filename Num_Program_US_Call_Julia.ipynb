{
 "cells": [
  {
   "cell_type": "code",
   "execution_count": 1,
   "metadata": {},
   "outputs": [
    {
     "data": {
      "text/html": [
       "<style>.container { width:100% !important; }</style>"
      ],
      "text/plain": [
       "HTML{String}(\"<style>.container { width:100% !important; }</style>\")"
      ]
     },
     "metadata": {},
     "output_type": "display_data"
    }
   ],
   "source": [
    "display(HTML(\"<style>.container { width:100% !important; }</style>\"))"
   ]
  },
  {
   "cell_type": "markdown",
   "metadata": {},
   "source": [
    "#### MIT license (c) 2019 by Andrew Lyasoff"
   ]
  },
  {
   "cell_type": "markdown",
   "metadata": {},
   "source": [
    "#### Jupyter notebook written in Julia 1.1.0. It implements on a CPUs the numerical program for computing the exercise boundary and the price of an American-style call option described in Sec. 18.4 of \"Stochastic Methods in Asset Pricing\" (pp. 514-516). The same program is implemented in Python in Appendix B.3 of SMAP."
   ]
  },
  {
   "cell_type": "markdown",
   "metadata": {},
   "source": [
    "Note the formula $\\int_a^bf(t)dt={1\\over2}(b-a)\\int_{-1}^{+1}f\\bigl({1\\over2}(b-a)s+{1\\over2}(a+b)\\bigr)d s$ to use with FastGaussQuadratures."
   ]
  },
  {
   "cell_type": "code",
   "execution_count": 1,
   "metadata": {},
   "outputs": [
    {
     "data": {
      "text/plain": [
       "5000"
      ]
     },
     "execution_count": 1,
     "metadata": {},
     "output_type": "execute_result"
    }
   ],
   "source": [
    "## the number of grid points over the time domain is set below\n",
    "## 5000 is excessive and is meant to test Julia's capabilities\n",
    "total_grid_no=5000 #this number must be divisible by pnmb"
   ]
  },
  {
   "cell_type": "markdown",
   "metadata": {},
   "source": [
    "Introduce the parameters in the model."
   ]
  },
  {
   "cell_type": "code",
   "execution_count": 2,
   "metadata": {},
   "outputs": [],
   "source": [
    "KK=40.0; # strike\n",
    "sigma=0.3; # volatility\n",
    "delta=0.07; # dividend\n",
    "rr=0.02; # interest\n",
    "TT=0.5; # time to maturity\n",
    "DLT=TT/(total_grid_no) # distance between two grid points in the time domain\n",
    "ABSC=range(0.0,length=total_grid_no+1,stop=TT) # the entire grid on the time domain\n",
    "VAL=[max(KK,KK*(rr/delta)) for x in ABSC]; # first guess for the exercise boundary"
   ]
  },
  {
   "cell_type": "code",
   "execution_count": null,
   "metadata": {},
   "outputs": [],
   "source": []
  },
  {
   "cell_type": "code",
   "execution_count": 3,
   "metadata": {},
   "outputs": [],
   "source": [
    "using SpecialFunctions\n",
    "using Interpolations\n",
    "using Roots\n",
    "using FastGaussQuadrature\n",
    "nodes,weights=gausslegendre( 200 );\n",
    "\n",
    "function EUcall(S::Float64,t::Float64,K::Float64,σ::Float64,r::Float64,δ::Float64)\n",
    "        local v1,v2\n",
    "        v1=(δ-r+σ^2/2.0)*t+log(K/S)\n",
    "        v2=(-δ + r + σ^2/2.0)*t - log(K/S)\n",
    "        v3=σ*sqrt(2.0*t)\n",
    "        return -K*(exp(-t*r)/2)+K*(exp(-t*r)/2)*erf(v1/v3)+S*(exp(-t*δ)/2)*erf(v2/v3)+S*(exp(-t*δ)/2)\n",
    "    end;\n",
    "\n",
    "function F(ϵ::Int64,t::Float64,u::Float64,v::Float64,r::Float64,δ::Float64,σ::Float64)\n",
    "        v1=(r-δ+ϵ*σ^2/2)*(u-t)-log(v)\n",
    "        v2=σ*sqrt(2*(u-t))\n",
    "        return 1.0+erf(v1/v2)\n",
    "    end;\n",
    "\n",
    "function ah(t::Float64,z::Float64,r::Float64,δ::Float64,σ::Float64,f)\n",
    "        return (exp(-δ*(z-t))*(δ/2)*F(1,t,z,f(z)/f(t),r,δ,σ))\n",
    "    end;\n",
    "\n",
    "function bh(t::Float64,z::Float64,r::Float64,δ::Float64,σ::Float64,K::Float64,f)\n",
    "        return (exp(-r*(z-t))*(r*K/2)*F(-1,t,z,f(z)/f(t),r,δ,σ))\n",
    "    end;\n",
    "\n",
    "function make_grid0(step::Float64,size::Int64)\n",
    "        return 0.0:step:(step+(size-1)*step)\n",
    "    end;"
   ]
  },
  {
   "cell_type": "code",
   "execution_count": 4,
   "metadata": {},
   "outputs": [
    {
     "data": {
      "text/plain": [
       "mainF (generic function with 1 method)"
      ]
     },
     "execution_count": 4,
     "metadata": {},
     "output_type": "execute_result"
    }
   ],
   "source": [
    "function mainF(start_iter::Int64,nmb_of_iter::Int64,conv_tol::Float64,K::Float64,σ::Float64,δ::Float64,r::Float64,T::Float64,Δ::Float64,nmb_grd_pnts::Int64,vls::Array{Float64,1},nds::Array{Float64,1},wghts::Array{Float64,1})\n",
    "    local no_iter,conv_check,absc,absc0,valPrev,val,loc,f\n",
    "    absc=range(0.0,length=nmb_grd_pnts+1,stop=T)\n",
    "    absc0=range(0.0,length=nmb_grd_pnts,stop=(T-Δ));\n",
    "    val=vls;\n",
    "    f=CubicSplineInterpolation(absc,val,extrapolation_bc = Interpolations.Line())\n",
    "    no_iter=start_iter;\n",
    "    conv_check=100.0\n",
    "    while no_iter<nmb_of_iter&&conv_check>conv_tol\n",
    "        no_iter+=1\n",
    "        loc=[max(K,K*(r/δ))]\n",
    "        for ttt=Iterators.reverse(absc0)\n",
    "            an=[(1/2)*(T-ttt)*ah(ttt,(1/2)*(T-ttt)*s+(1/2)*(ttt+T),r,δ,σ,f) for s in nodes]\n",
    "            bn=[(1/2)*(T-ttt)*bh(ttt,(1/2)*(T-ttt)*s+(1/2)*(ttt+T),r,δ,σ,K,f) for s in nodes]\n",
    "            aaa=weights'*an\n",
    "            bbb=weights'*bn;\n",
    "            LRT=find_zero(x->x-K-EUcall(x,T-ttt,K,σ,r,δ)-aaa*x+bbb,(K-10,K+20));\n",
    "            pushfirst!(loc,LRT)\n",
    "        end\n",
    "        valPrev=val\n",
    "        val=loc\n",
    "        f=CubicSplineInterpolation(absc,val,extrapolation_bc = Interpolations.Line())\n",
    "        conv_check=maximum(abs.(valPrev-val))\n",
    "    end\n",
    "    return absc,val,conv_check,no_iter\n",
    "end"
   ]
  },
  {
   "cell_type": "code",
   "execution_count": null,
   "metadata": {},
   "outputs": [],
   "source": []
  },
  {
   "cell_type": "markdown",
   "metadata": {},
   "source": [
    "Run the main routine. The third argument is an upper bound on the total iterations to run. \n",
    "The last two arguments control FastGaussQuadrature.\n",
    "\n",
    "masterF(prnmb,start_iter,nmb_of_iter,conv_tol,K,σ,δ,r,T,Δ,no_grd_pnts,vls,nds,wghts)\n"
   ]
  },
  {
   "cell_type": "code",
   "execution_count": null,
   "metadata": {},
   "outputs": [],
   "source": []
  },
  {
   "cell_type": "markdown",
   "metadata": {},
   "source": [
    "mainF(start_iter, nmb_of_iter, conv_tol, $K$, $\\sigma$, $\\delta$, $r$, $T$, $\\Delta$, no_grd_pnts, vls, nds, wghts)"
   ]
  },
  {
   "cell_type": "code",
   "execution_count": 5,
   "metadata": {},
   "outputs": [
    {
     "name": "stdout",
     "output_type": "stream",
     "text": [
      " 13.992447 seconds (406.23 M allocations: 6.942 GiB, 3.71% gc time)\n"
     ]
    }
   ],
   "source": [
    "@time ABSC,VAL,conv,iterations=mainF(0,100,1.0e-5,KK,sigma,delta,rr,TT,DLT,total_grid_no,VAL,nodes,weights);"
   ]
  },
  {
   "cell_type": "markdown",
   "metadata": {},
   "source": [
    "The call to 'masterF' can be repeated with the most recent VAL and the second argument set to the number of already performed iterations."
   ]
  },
  {
   "cell_type": "code",
   "execution_count": 6,
   "metadata": {},
   "outputs": [
    {
     "data": {
      "text/plain": [
       "(9.63110706209136e-6, 23)"
      ]
     },
     "execution_count": 6,
     "metadata": {},
     "output_type": "execute_result"
    }
   ],
   "source": [
    "conv,iterations"
   ]
  },
  {
   "cell_type": "code",
   "execution_count": 7,
   "metadata": {},
   "outputs": [],
   "source": [
    "f=CubicSplineInterpolation(ABSC,VAL,extrapolation_bc = Interpolations.Line());"
   ]
  },
  {
   "cell_type": "code",
   "execution_count": 8,
   "metadata": {},
   "outputs": [
    {
     "data": {
      "text/plain": [
       "Plots.PyPlotBackend()"
      ]
     },
     "execution_count": 8,
     "metadata": {},
     "output_type": "execute_result"
    }
   ],
   "source": [
    "using Plots\n",
    "pyplot()"
   ]
  },
  {
   "cell_type": "code",
   "execution_count": 9,
   "metadata": {},
   "outputs": [
    {
     "data": {
      "image/png": "[encoded data removed]"
     },
     "execution_count": 9,
     "metadata": {},
     "output_type": "execute_result"
    }
   ],
   "source": [
    "plotgrid=ABSC[1]:.001:ABSC[end];\n",
    "pval=[f(x) for x in plotgrid];\n",
    "plot(plotgrid,pval,label=\"exercise boundary\")\n",
    "xlabel!(\"real time\")\n",
    "ylabel!(\"underlying spot price\")"
   ]
  },
  {
   "cell_type": "code",
   "execution_count": 11,
   "metadata": {},
   "outputs": [
    {
     "data": {
      "text/plain": [
       "53.58270125587188"
      ]
     },
     "execution_count": 11,
     "metadata": {},
     "output_type": "execute_result"
    }
   ],
   "source": [
    "f(0)"
   ]
  },
  {
   "cell_type": "markdown",
   "metadata": {},
   "source": [
    "The price of the EU call option at the money ($S_0=K$) with $T={1\\over2}$:"
   ]
  },
  {
   "cell_type": "code",
   "execution_count": 12,
   "metadata": {},
   "outputs": [
    {
     "data": {
      "text/plain": [
       "2.8378265020118754"
      ]
     },
     "execution_count": 12,
     "metadata": {},
     "output_type": "execute_result"
    }
   ],
   "source": [
    "EUcall(KK,TT,KK,sigma,rr,delta)"
   ]
  },
  {
   "cell_type": "markdown",
   "metadata": {},
   "source": [
    "The early exercise premium for at the money option at $t=0$ is:"
   ]
  },
  {
   "cell_type": "code",
   "execution_count": 13,
   "metadata": {},
   "outputs": [
    {
     "data": {
      "text/plain": [
       "0.10081943488743587"
      ]
     },
     "execution_count": 13,
     "metadata": {},
     "output_type": "execute_result"
    }
   ],
   "source": [
    "an=[(0.5*(TT-0.0))*exp(-delta*((1/2)*(TT-0.0)*s+(1/2)*(0.0+TT)-0.0))*(KK*delta/2)*F(1,0.0,(1/2)*(TT-0.0)*s+(1/2)*(0.0+TT),f((1/2)*(TT-0.0)*s+(1/2)*(0.0+TT))/KK,rr,delta,sigma) for s in nodes]\n",
    "bn=[(0.5*(TT-0.0))*exp(-rr*((1/2)*(TT-0.0)*s+(1/2)*(0.0+TT)-0.0))*(rr*KK/2)*F(-1,0.0,(1/2)*(TT-0.0)*s+(1/2)*(0.0+TT),f((1/2)*(TT-0.0)*s+(1/2)*(0.0+TT))/KK,rr,delta,sigma)  for s in nodes]\n",
    "aaa=weights'*an\n",
    "bbb=weights'*bn;\n",
    "EEP=aaa-bbb\n",
    "EEP"
   ]
  },
  {
   "cell_type": "markdown",
   "metadata": {},
   "source": [
    "The price of an American at the money call with 6 months to expiry is:"
   ]
  },
  {
   "cell_type": "code",
   "execution_count": 14,
   "metadata": {},
   "outputs": [
    {
     "data": {
      "text/plain": [
       "2.938645936899311"
      ]
     },
     "execution_count": 14,
     "metadata": {},
     "output_type": "execute_result"
    }
   ],
   "source": [
    "EUcall(KK,TT,KK,sigma,rr,delta)+EEP"
   ]
  },
  {
   "cell_type": "code",
   "execution_count": null,
   "metadata": {},
   "outputs": [],
   "source": []
  }
 ],
 "metadata": {
  "@webio": {
   "lastCommId": null,
   "lastKernelId": null
  },
  "kernelspec": {
   "display_name": "Julia 1.1.0",
   "language": "julia",
   "name": "julia-1.1"
  },
  "language_info": {
   "file_extension": ".jl",
   "mimetype": "application/julia",
   "name": "julia",
   "version": "1.1.0"
  }
 },
 "nbformat": 4,
 "nbformat_minor": 2
}
