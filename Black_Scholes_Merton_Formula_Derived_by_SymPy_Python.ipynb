{
 "cells": [
  {
   "cell_type": "markdown",
   "metadata": {},
   "source": [
    "#### MIT License (c) 2018 by Andrew Lyasoff"
   ]
  },
  {
   "cell_type": "markdown",
   "metadata": {},
   "source": [
    "#### Jupyter notebook written in Python 3. It illustrates the derivation of the Black-Scholes-Merton formula for the price of an European style call option by using SymPy. In particular, it illustrates the inversion of a function by using 'solve.'"
   ]
  },
  {
   "cell_type": "code",
   "execution_count": 1,
   "metadata": {},
   "outputs": [],
   "source": [
    "from sympy import *\n",
    "t=Symbol('t',positive=True)\n",
    "r=Symbol('r',positive=True)\n",
    "S=Symbol('S',positive=True)\n",
    "K=Symbol('K',positive=True)\n",
    "a=Symbol('a',positive=True)\n",
    "x=Symbol('x',real=True)\n",
    "sigma=Symbol('sigma',positive=True)\n",
    "init_printing()"
   ]
  },
  {
   "cell_type": "code",
   "execution_count": 2,
   "metadata": {},
   "outputs": [
    {
     "data": {
      "image/png": "[encoded data removed]",
      "text/latex": [
       "$$\\left \\{ x : \\frac{t}{2} \\left(- 2 r + \\sigma^{2}\\right) + \\log{\\left (K \\right )} - \\log{\\left (S \\right )}\\right \\}$$"
      ],
      "text/plain": [
       "⎧     ⎛        2⎞                  ⎫\n",
       "⎪   t⋅⎝-2⋅r + σ ⎠                  ⎪\n",
       "⎨x: ───────────── + log(K) - log(S)⎬\n",
       "⎪         2                        ⎪\n",
       "⎩                                  ⎭"
      ]
     },
     "execution_count": 2,
     "metadata": {},
     "output_type": "execute_result"
    }
   ],
   "source": [
    "ibound=solve(S*exp(x+(r-Rational(1,2)*sigma**2)*t)-K,x,dict=True)[0]\n",
    "ibound"
   ]
  },
  {
   "cell_type": "code",
   "execution_count": 3,
   "metadata": {},
   "outputs": [
    {
     "data": {
      "image/png": "[encoded data removed]",
      "text/latex": [
       "$$\\frac{t}{2} \\left(- 2 r + \\sigma^{2}\\right) + \\log{\\left (K \\right )} - \\log{\\left (S \\right )}$$"
      ],
      "text/plain": [
       "  ⎛        2⎞                  \n",
       "t⋅⎝-2⋅r + σ ⎠                  \n",
       "───────────── + log(K) - log(S)\n",
       "      2                        "
      ]
     },
     "execution_count": 3,
     "metadata": {},
     "output_type": "execute_result"
    }
   ],
   "source": [
    "ibound[x]"
   ]
  },
  {
   "cell_type": "code",
   "execution_count": 4,
   "metadata": {},
   "outputs": [
    {
     "data": {
      "image/png": "[encoded data removed]",
      "text/latex": [
       "$$- \\frac{K \\sigma}{2} \\sqrt{2} \\sqrt{\\pi} \\sqrt{t} \\operatorname{erfc}{\\left (\\frac{\\sqrt{2} a}{2 \\sigma \\sqrt{t}} \\right )} + \\frac{S \\sigma^{2} t}{\\sqrt{\\pi} \\left(a - \\sigma^{2} t\\right)} \\left(- \\frac{\\sqrt{2} \\pi}{2 \\sigma \\sqrt{t}} \\left(a - \\sigma^{2} t\\right) e^{\\frac{\\left(a - \\sigma^{2} t\\right)^{2}}{2 \\sigma^{2} t}} \\operatorname{erf}{\\left (\\frac{\\sqrt{2} \\left(a - \\sigma^{2} t\\right)}{2 \\sigma \\sqrt{t}} \\right )} + \\frac{\\sqrt{2} \\pi}{2 \\sigma \\sqrt{t}} \\left(a - \\sigma^{2} t\\right) e^{\\frac{\\left(a - \\sigma^{2} t\\right)^{2}}{2 \\sigma^{2} t}}\\right) e^{- \\frac{a^{2}}{2 \\sigma^{2} t} + a + r t - 0.5 \\sigma^{2} t}$$"
      ],
      "text/plain": [
       "                                     ⎛                             2          \n",
       "                                     ⎜                   ⎛     2  ⎞           \n",
       "                                     ⎜                   ⎝a - σ ⋅t⎠           \n",
       "                                     ⎜                   ───────────          \n",
       "                                     ⎜                         2        ⎛   ⎛ \n",
       "                                     ⎜       ⎛     2  ⎞     2⋅σ ⋅t      ⎜√2⋅⎝a\n",
       "                                     ⎜  √2⋅π⋅⎝a - σ ⋅t⎠⋅ℯ           ⋅erf⎜─────\n",
       "                   ⎛ √2⋅a ⎞      2   ⎜                                  ⎝    2\n",
       "  √2⋅√π⋅K⋅σ⋅√t⋅erfc⎜──────⎟   S⋅σ ⋅t⋅⎜- ──────────────────────────────────────\n",
       "                   ⎝2⋅σ⋅√t⎠          ⎝                       2⋅σ⋅√t           \n",
       "- ───────────────────────── + ────────────────────────────────────────────────\n",
       "              2                                                               \n",
       "                                                                              \n",
       "\n",
       "                                        ⎞                               \n",
       "                                       2⎟                               \n",
       "                             ⎛     2  ⎞ ⎟                               \n",
       "                             ⎝a - σ ⋅t⎠ ⎟       2                       \n",
       "    2  ⎞⎞                    ───────────⎟      a                     2  \n",
       " - σ ⋅t⎠⎟                          2    ⎟  - ────── + a + r⋅t - 0.5⋅σ ⋅t\n",
       "────────⎟        ⎛     2  ⎞     2⋅σ ⋅t  ⎟       2                       \n",
       "⋅σ⋅√t   ⎠   √2⋅π⋅⎝a - σ ⋅t⎠⋅ℯ           ⎟    2⋅σ ⋅t                     \n",
       "───────── + ────────────────────────────⎟⋅ℯ                             \n",
       "                       2⋅σ⋅√t           ⎠                               \n",
       "────────────────────────────────────────────────────────────────────────\n",
       "        ⎛     2  ⎞                                                      \n",
       "     √π⋅⎝a - σ ⋅t⎠                                                      "
      ]
     },
     "execution_count": 4,
     "metadata": {},
     "output_type": "execute_result"
    }
   ],
   "source": [
    "A=integrate(exp(-x**2/(2*t*sigma**2))*(S*exp(x+(r-(1/2)*sigma**2)*t)-K),(x,a,+oo))\n",
    "A"
   ]
  },
  {
   "cell_type": "code",
   "execution_count": 5,
   "metadata": {},
   "outputs": [
    {
     "data": {
      "image/png": "[encoded data removed]",
      "text/latex": [
       "$$\\frac{\\sqrt{2} \\sigma}{2} \\sqrt{\\pi} \\sqrt{t} \\left(K \\operatorname{erfc}{\\left (\\frac{\\sqrt{2}}{4 \\sigma \\sqrt{t}} \\left(2 r t - \\sigma^{2} t + \\log{\\left (\\frac{S^{2}}{K^{2}} \\right )}\\right) \\right )} - 2 K + S e^{r t} \\operatorname{erf}{\\left (\\frac{\\sqrt{2}}{4 \\sigma \\sqrt{t}} \\left(2 r t + \\sigma^{2} t + \\log{\\left (\\frac{S^{2}}{K^{2}} \\right )}\\right) \\right )} + S e^{r t}\\right)$$"
      ],
      "text/plain": [
       "           ⎛      ⎛   ⎛                  ⎛ 2⎞⎞⎞                   ⎛   ⎛       \n",
       "           ⎜      ⎜   ⎜         2        ⎜S ⎟⎟⎟                   ⎜   ⎜       \n",
       "           ⎜      ⎜√2⋅⎜2⋅r⋅t - σ ⋅t + log⎜──⎟⎟⎟                   ⎜√2⋅⎜2⋅r⋅t +\n",
       "           ⎜      ⎜   ⎜                  ⎜ 2⎟⎟⎟                   ⎜   ⎜       \n",
       "           ⎜      ⎜   ⎝                  ⎝K ⎠⎠⎟            r⋅t    ⎜   ⎝       \n",
       "√2⋅√π⋅σ⋅√t⋅⎜K⋅erfc⎜───────────────────────────⎟ - 2⋅K + S⋅ℯ   ⋅erf⎜───────────\n",
       "           ⎝      ⎝           4⋅σ⋅√t          ⎠                   ⎝           \n",
       "──────────────────────────────────────────────────────────────────────────────\n",
       "                                                    2                         \n",
       "\n",
       "           ⎛ 2⎞⎞⎞         ⎞\n",
       "  2        ⎜S ⎟⎟⎟         ⎟\n",
       " σ ⋅t + log⎜──⎟⎟⎟         ⎟\n",
       "           ⎜ 2⎟⎟⎟         ⎟\n",
       "           ⎝K ⎠⎠⎟      r⋅t⎟\n",
       "────────────────⎟ + S⋅ℯ   ⎟\n",
       "4⋅σ⋅√t          ⎠         ⎠\n",
       "───────────────────────────\n",
       "                           "
      ]
     },
     "execution_count": 5,
     "metadata": {},
     "output_type": "execute_result"
    }
   ],
   "source": [
    "A.subs(a,ibound[x]).simplify()"
   ]
  },
  {
   "cell_type": "markdown",
   "metadata": {},
   "source": [
    "##### Note: ${\\rm erfc}(x)=1-{\\rm erf}(x)$."
   ]
  },
  {
   "cell_type": "code",
   "execution_count": null,
   "metadata": {},
   "outputs": [],
   "source": []
  }
 ],
 "metadata": {
  "kernelspec": {
   "display_name": "Python 3",
   "language": "python",
   "name": "python3"
  },
  "language_info": {
   "codemirror_mode": {
    "name": "ipython",
    "version": 3
   },
   "file_extension": ".py",
   "mimetype": "text/x-python",
   "name": "python",
   "nbconvert_exporter": "python",
   "pygments_lexer": "ipython3",
   "version": "3.6.4"
  }
 },
 "nbformat": 4,
 "nbformat_minor": 1
}
