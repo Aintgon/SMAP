{
 "cells": [
  {
   "cell_type": "markdown",
   "metadata": {},
   "source": [
    "#### MIT License (c) 2019 by Andrew Lyasoff"
   ]
  },
  {
   "cell_type": "markdown",
   "metadata": {},
   "source": [
    "#### Jupyter notebook written in Python 3. It illustrates the derivation of the Black-Scholes-Merton formula for the price of an European style call option by using SymPy. In particular, it illustrates the inversion of a function by using 'solve.' The formula is derived with non-zero dividends."
   ]
  },
  {
   "cell_type": "code",
   "execution_count": 1,
   "metadata": {},
   "outputs": [],
   "source": [
    "from sympy import *\n",
    "t=Symbol('t',positive=True)\n",
    "r=Symbol('r',positive=True)\n",
    "S=Symbol('S',positive=True)\n",
    "K=Symbol('K',positive=True)\n",
    "a=Symbol('a',positive=True)\n",
    "x=Symbol('x',real=True)\n",
    "sigma=Symbol('sigma',positive=True)\n",
    "delta=Symbol('delta',positive=True)\n",
    "init_printing()"
   ]
  },
  {
   "cell_type": "code",
   "execution_count": 2,
   "metadata": {},
   "outputs": [
    {
     "data": {
      "image/png": "[encoded data removed]",
      "text/latex": [
       "$$\\left \\{ x : \\frac{t}{2} \\left(2 \\delta - 2 r + \\sigma^{2}\\right) + \\log{\\left (K \\right )} - \\log{\\left (S \\right )}\\right \\}$$"
      ],
      "text/plain": [
       "⎧     ⎛             2⎞                  ⎫\n",
       "⎪   t⋅⎝2⋅δ - 2⋅r + σ ⎠                  ⎪\n",
       "⎨x: ────────────────── + log(K) - log(S)⎬\n",
       "⎪           2                           ⎪\n",
       "⎩                                       ⎭"
      ]
     },
     "execution_count": 2,
     "metadata": {},
     "output_type": "execute_result"
    }
   ],
   "source": [
    "ibound=solve(S*exp(x+(r-delta-Rational(1,2)*sigma**2)*t)-K,x,dict=True)[0]\n",
    "ibound"
   ]
  },
  {
   "cell_type": "code",
   "execution_count": 3,
   "metadata": {},
   "outputs": [
    {
     "data": {
      "image/png": "[encoded data removed]",
      "text/latex": [
       "$$\\frac{t}{2} \\left(2 \\delta - 2 r + \\sigma^{2}\\right) + \\log{\\left (K \\right )} - \\log{\\left (S \\right )}$$"
      ],
      "text/plain": [
       "  ⎛             2⎞                  \n",
       "t⋅⎝2⋅δ - 2⋅r + σ ⎠                  \n",
       "────────────────── + log(K) - log(S)\n",
       "        2                           "
      ]
     },
     "execution_count": 3,
     "metadata": {},
     "output_type": "execute_result"
    }
   ],
   "source": [
    "ibound[x]"
   ]
  },
  {
   "cell_type": "code",
   "execution_count": 4,
   "metadata": {},
   "outputs": [
    {
     "data": {
      "image/png": "[encoded data removed]",
      "text/latex": [
       "$$1$$"
      ],
      "text/plain": [
       "1"
      ]
     },
     "execution_count": 4,
     "metadata": {},
     "output_type": "execute_result"
    }
   ],
   "source": [
    "integrate(exp(-x**2/(2*t*sigma**2))/(sigma*sqrt(2*pi*t)),(x,-oo,+oo))"
   ]
  },
  {
   "cell_type": "code",
   "execution_count": 5,
   "metadata": {},
   "outputs": [
    {
     "data": {
      "image/png": "[encoded data removed]",
      "text/latex": [
       "$$\\left(- \\frac{K}{2} \\operatorname{erfc}{\\left (\\frac{\\sqrt{2} a}{2 \\sigma \\sqrt{t}} \\right )} - \\frac{\\sqrt{2} S \\sigma \\sqrt{t}}{2 \\pi \\left(- a + \\sigma^{2} t\\right)} \\left(- \\frac{\\sqrt{2} \\pi}{2 \\sigma \\sqrt{t}} \\left(- a + \\sigma^{2} t\\right) e^{\\frac{\\left(- a + \\sigma^{2} t\\right)^{2}}{2 \\sigma^{2} t}} \\operatorname{erf}{\\left (\\frac{\\sqrt{2} \\left(- a + \\sigma^{2} t\\right)}{2 \\sigma \\sqrt{t}} \\right )} - \\frac{\\sqrt{2} \\pi}{2 \\sigma \\sqrt{t}} \\left(- a + \\sigma^{2} t\\right) e^{\\frac{\\left(- a + \\sigma^{2} t\\right)^{2}}{2 \\sigma^{2} t}}\\right) e^{- \\frac{a^{2}}{2 \\sigma^{2} t} + a - \\delta t + r t - 0.5 \\sigma^{2} t}\\right) e^{- r t}$$"
      ],
      "text/plain": [
       "⎛                             ⎛                               2               \n",
       "⎜                             ⎜                    ⎛      2  ⎞                \n",
       "⎜                             ⎜                    ⎝-a + σ ⋅t⎠                \n",
       "⎜                             ⎜                    ────────────               \n",
       "⎜                             ⎜                          2         ⎛   ⎛      \n",
       "⎜                             ⎜       ⎛      2  ⎞     2⋅σ ⋅t       ⎜√2⋅⎝-a + σ\n",
       "⎜                             ⎜  √2⋅π⋅⎝-a + σ ⋅t⎠⋅ℯ            ⋅erf⎜──────────\n",
       "⎜        ⎛ √2⋅a ⎞             ⎜                                    ⎝    2⋅σ⋅√t\n",
       "⎜  K⋅erfc⎜──────⎟   √2⋅S⋅σ⋅√t⋅⎜- ─────────────────────────────────────────────\n",
       "⎜        ⎝2⋅σ⋅√t⎠             ⎝                        2⋅σ⋅√t                 \n",
       "⎜- ────────────── - ──────────────────────────────────────────────────────────\n",
       "⎜        2                                                                    \n",
       "⎝                                                                             \n",
       "\n",
       "                                      ⎞                                     ⎞ \n",
       "                                     2⎟                                     ⎟ \n",
       "                          ⎛      2  ⎞ ⎟                                     ⎟ \n",
       "                          ⎝-a + σ ⋅t⎠ ⎟       2                             ⎟ \n",
       "2  ⎞⎞                     ────────────⎟      a                           2  ⎟ \n",
       " ⋅t⎠⎟                           2     ⎟  - ────── + a - δ⋅t + r⋅t - 0.5⋅σ ⋅t⎟ \n",
       "────⎟        ⎛      2  ⎞     2⋅σ ⋅t   ⎟       2                             ⎟ \n",
       "    ⎠   √2⋅π⋅⎝-a + σ ⋅t⎠⋅ℯ            ⎟    2⋅σ ⋅t                           ⎟ \n",
       "───── - ──────────────────────────────⎟⋅ℯ                                   ⎟ \n",
       "                    2⋅σ⋅√t            ⎠                                     ⎟ \n",
       "────────────────────────────────────────────────────────────────────────────⎟⋅\n",
       "     ⎛      2  ⎞                                                            ⎟ \n",
       " 2⋅π⋅⎝-a + σ ⋅t⎠                                                            ⎠ \n",
       "\n",
       "     \n",
       "     \n",
       "     \n",
       "     \n",
       "     \n",
       "     \n",
       "     \n",
       "     \n",
       "     \n",
       " -r⋅t\n",
       "ℯ    \n",
       "     \n",
       "     "
      ]
     },
     "execution_count": 5,
     "metadata": {},
     "output_type": "execute_result"
    }
   ],
   "source": [
    "A=exp(-r*t)*integrate(exp(-x**2/(2*t*sigma**2))*(S*exp(x+(r-delta-(1/2)*sigma**2)*t)-K)/(sigma*sqrt(2*pi*t)),(x,a,+oo))\n",
    "A"
   ]
  },
  {
   "cell_type": "code",
   "execution_count": 6,
   "metadata": {},
   "outputs": [
    {
     "data": {
      "image/png": "[encoded data removed]",
      "text/latex": [
       "$$\\frac{1}{2} \\left(- K e^{\\delta t} \\operatorname{erfc}{\\left (\\frac{\\sqrt{2}}{4 \\sigma \\sqrt{t}} \\left(2 \\delta t - 2 r t + \\sigma^{2} t + \\log{\\left (\\frac{K^{2}}{S^{2}} \\right )}\\right) \\right )} + S e^{r t} \\operatorname{erf}{\\left (\\frac{\\sqrt{2}}{4 \\sigma \\sqrt{t}} \\left(- 2 \\delta t + 2 r t + \\sigma^{2} t + \\log{\\left (\\frac{S^{2}}{K^{2}} \\right )}\\right) \\right )} + S e^{r t}\\right) e^{- t \\left(\\delta + r\\right)}$$"
      ],
      "text/plain": [
       "⎛             ⎛   ⎛                          ⎛ 2⎞⎞⎞             ⎛   ⎛         \n",
       "⎜             ⎜   ⎜                 2        ⎜K ⎟⎟⎟             ⎜   ⎜         \n",
       "⎜             ⎜√2⋅⎜2⋅δ⋅t - 2⋅r⋅t + σ ⋅t + log⎜──⎟⎟⎟             ⎜√2⋅⎜-2⋅δ⋅t + \n",
       "⎜             ⎜   ⎜                          ⎜ 2⎟⎟⎟             ⎜   ⎜         \n",
       "⎜     δ⋅t     ⎜   ⎝                          ⎝S ⎠⎠⎟      r⋅t    ⎜   ⎝         \n",
       "⎜- K⋅ℯ   ⋅erfc⎜───────────────────────────────────⎟ + S⋅ℯ   ⋅erf⎜─────────────\n",
       "⎝             ⎝               4⋅σ⋅√t              ⎠             ⎝             \n",
       "──────────────────────────────────────────────────────────────────────────────\n",
       "                                                             2                \n",
       "\n",
       "                  ⎛ 2⎞⎞⎞         ⎞            \n",
       "         2        ⎜S ⎟⎟⎟         ⎟            \n",
       "2⋅r⋅t + σ ⋅t + log⎜──⎟⎟⎟         ⎟            \n",
       "                  ⎜ 2⎟⎟⎟         ⎟            \n",
       "                  ⎝K ⎠⎠⎟      r⋅t⎟  -t⋅(δ + r)\n",
       "───────────────────────⎟ + S⋅ℯ   ⎟⋅ℯ          \n",
       "  4⋅σ⋅√t               ⎠         ⎠            \n",
       "──────────────────────────────────────────────\n",
       "                                              "
      ]
     },
     "execution_count": 6,
     "metadata": {},
     "output_type": "execute_result"
    }
   ],
   "source": [
    "A.subs(a,ibound[x]).simplify()"
   ]
  },
  {
   "cell_type": "code",
   "execution_count": 7,
   "metadata": {},
   "outputs": [
    {
     "data": {
      "image/png": "[encoded data removed]",
      "text/latex": [
       "$$\\frac{1}{2} \\left(- K e^{\\delta t} \\operatorname{erfc}{\\left (\\frac{\\sqrt{2}}{4 \\sigma \\sqrt{t}} \\left(2 \\delta t - 2 r t + \\sigma^{2} t + \\log{\\left (\\frac{K^{2}}{S^{2}} \\right )}\\right) \\right )} + S e^{r t} \\operatorname{erf}{\\left (\\frac{\\sqrt{2}}{4 \\sigma \\sqrt{t}} \\left(- 2 \\delta t + 2 r t + \\sigma^{2} t + \\log{\\left (\\frac{S^{2}}{K^{2}} \\right )}\\right) \\right )} + S e^{r t}\\right) e^{- t \\left(\\delta + r\\right)}$$"
      ],
      "text/plain": [
       "⎛             ⎛   ⎛                          ⎛ 2⎞⎞⎞             ⎛   ⎛         \n",
       "⎜             ⎜   ⎜                 2        ⎜K ⎟⎟⎟             ⎜   ⎜         \n",
       "⎜             ⎜√2⋅⎜2⋅δ⋅t - 2⋅r⋅t + σ ⋅t + log⎜──⎟⎟⎟             ⎜√2⋅⎜-2⋅δ⋅t + \n",
       "⎜             ⎜   ⎜                          ⎜ 2⎟⎟⎟             ⎜   ⎜         \n",
       "⎜     δ⋅t     ⎜   ⎝                          ⎝S ⎠⎠⎟      r⋅t    ⎜   ⎝         \n",
       "⎜- K⋅ℯ   ⋅erfc⎜───────────────────────────────────⎟ + S⋅ℯ   ⋅erf⎜─────────────\n",
       "⎝             ⎝               4⋅σ⋅√t              ⎠             ⎝             \n",
       "──────────────────────────────────────────────────────────────────────────────\n",
       "                                                             2                \n",
       "\n",
       "                  ⎛ 2⎞⎞⎞         ⎞            \n",
       "         2        ⎜S ⎟⎟⎟         ⎟            \n",
       "2⋅r⋅t + σ ⋅t + log⎜──⎟⎟⎟         ⎟            \n",
       "                  ⎜ 2⎟⎟⎟         ⎟            \n",
       "                  ⎝K ⎠⎠⎟      r⋅t⎟  -t⋅(δ + r)\n",
       "───────────────────────⎟ + S⋅ℯ   ⎟⋅ℯ          \n",
       "  4⋅σ⋅√t               ⎠         ⎠            \n",
       "──────────────────────────────────────────────\n",
       "                                              "
      ]
     },
     "execution_count": 7,
     "metadata": {},
     "output_type": "execute_result"
    }
   ],
   "source": [
    "(-K*exp(delta*t)*erfc(sqrt(2)*(2*delta*t - 2*r*t + sigma**2*t + log(K**2/S**2))/(4*sigma*sqrt(t))) + S*exp(r*t)*erf(sqrt(2)*(-2*delta*t + 2*r*t + sigma**2*t + log(S**2/K**2))/(4*sigma*sqrt(t))) + S*exp(r*t))*exp(-t*(delta + r))/2"
   ]
  },
  {
   "cell_type": "markdown",
   "metadata": {},
   "source": [
    "##### Note: ${\\rm erfc}(x)=1-{\\rm erf}(x)=1+{\\rm erf}(-x)$."
   ]
  },
  {
   "cell_type": "code",
   "execution_count": null,
   "metadata": {},
   "outputs": [],
   "source": []
  },
  {
   "cell_type": "code",
   "execution_count": 8,
   "metadata": {},
   "outputs": [
    {
     "data": {
      "image/png": "[encoded data removed]",
      "text/latex": [
       "$$\\frac{1}{2} \\left(K \\operatorname{erfc}{\\left (\\frac{\\sqrt{2}}{4 \\sigma \\sqrt{t}} \\left(2 r t - \\sigma^{2} t + \\log{\\left (\\frac{S^{2}}{K^{2}} \\right )}\\right) \\right )} - 2 K + S e^{r t} \\operatorname{erf}{\\left (\\frac{\\sqrt{2}}{4 \\sigma \\sqrt{t}} \\left(2 r t + \\sigma^{2} t + \\log{\\left (\\frac{S^{2}}{K^{2}} \\right )}\\right) \\right )} + S e^{r t}\\right) e^{- r t}$$"
      ],
      "text/plain": [
       "⎛      ⎛   ⎛                  ⎛ 2⎞⎞⎞                   ⎛   ⎛                  \n",
       "⎜      ⎜   ⎜         2        ⎜S ⎟⎟⎟                   ⎜   ⎜         2        \n",
       "⎜      ⎜√2⋅⎜2⋅r⋅t - σ ⋅t + log⎜──⎟⎟⎟                   ⎜√2⋅⎜2⋅r⋅t + σ ⋅t + log\n",
       "⎜      ⎜   ⎜                  ⎜ 2⎟⎟⎟                   ⎜   ⎜                  \n",
       "⎜      ⎜   ⎝                  ⎝K ⎠⎠⎟            r⋅t    ⎜   ⎝                  \n",
       "⎜K⋅erfc⎜───────────────────────────⎟ - 2⋅K + S⋅ℯ   ⋅erf⎜──────────────────────\n",
       "⎝      ⎝           4⋅σ⋅√t          ⎠                   ⎝           4⋅σ⋅√t     \n",
       "──────────────────────────────────────────────────────────────────────────────\n",
       "                                                 2                            \n",
       "\n",
       "⎛ 2⎞⎞⎞         ⎞      \n",
       "⎜S ⎟⎟⎟         ⎟      \n",
       "⎜──⎟⎟⎟         ⎟      \n",
       "⎜ 2⎟⎟⎟         ⎟      \n",
       "⎝K ⎠⎠⎟      r⋅t⎟  -r⋅t\n",
       "─────⎟ + S⋅ℯ   ⎟⋅ℯ    \n",
       "     ⎠         ⎠      \n",
       "──────────────────────\n",
       "                      "
      ]
     },
     "execution_count": 8,
     "metadata": {},
     "output_type": "execute_result"
    }
   ],
   "source": [
    "A.subs(a,ibound[x]).subs(delta,0).simplify()"
   ]
  },
  {
   "cell_type": "code",
   "execution_count": 9,
   "metadata": {},
   "outputs": [
    {
     "data": {
      "image/png": "[encoded data removed]",
      "text/latex": [
       "$$\\frac{1}{2} \\left(K \\operatorname{erfc}{\\left (\\frac{\\sqrt{2}}{4 \\sigma \\sqrt{t}} \\left(2 r t - \\sigma^{2} t + \\log{\\left (\\frac{S^{2}}{K^{2}} \\right )}\\right) \\right )} - 2 K + S e^{r t} \\operatorname{erf}{\\left (\\frac{\\sqrt{2}}{4 \\sigma \\sqrt{t}} \\left(2 r t + \\sigma^{2} t + \\log{\\left (\\frac{S^{2}}{K^{2}} \\right )}\\right) \\right )} + S e^{r t}\\right) e^{- r t}$$"
      ],
      "text/plain": [
       "⎛      ⎛   ⎛                  ⎛ 2⎞⎞⎞                   ⎛   ⎛                  \n",
       "⎜      ⎜   ⎜         2        ⎜S ⎟⎟⎟                   ⎜   ⎜         2        \n",
       "⎜      ⎜√2⋅⎜2⋅r⋅t - σ ⋅t + log⎜──⎟⎟⎟                   ⎜√2⋅⎜2⋅r⋅t + σ ⋅t + log\n",
       "⎜      ⎜   ⎜                  ⎜ 2⎟⎟⎟                   ⎜   ⎜                  \n",
       "⎜      ⎜   ⎝                  ⎝K ⎠⎠⎟            r⋅t    ⎜   ⎝                  \n",
       "⎜K⋅erfc⎜───────────────────────────⎟ - 2⋅K + S⋅ℯ   ⋅erf⎜──────────────────────\n",
       "⎝      ⎝           4⋅σ⋅√t          ⎠                   ⎝           4⋅σ⋅√t     \n",
       "──────────────────────────────────────────────────────────────────────────────\n",
       "                                                 2                            \n",
       "\n",
       "⎛ 2⎞⎞⎞         ⎞      \n",
       "⎜S ⎟⎟⎟         ⎟      \n",
       "⎜──⎟⎟⎟         ⎟      \n",
       "⎜ 2⎟⎟⎟         ⎟      \n",
       "⎝K ⎠⎠⎟      r⋅t⎟  -r⋅t\n",
       "─────⎟ + S⋅ℯ   ⎟⋅ℯ    \n",
       "     ⎠         ⎠      \n",
       "──────────────────────\n",
       "                      "
      ]
     },
     "execution_count": 9,
     "metadata": {},
     "output_type": "execute_result"
    }
   ],
   "source": [
    "(K*erfc(sqrt(2)*(2*r*t - sigma**2*t + log(S**2/K**2))/(4*sigma*sqrt(t))) - 2*K + S*exp(r*t)*erf(sqrt(2)*(2*r*t + sigma**2*t + log(S**2/K**2))/(4*sigma*sqrt(t))) + S*exp(r*t))*exp(-r*t)/2"
   ]
  },
  {
   "cell_type": "code",
   "execution_count": 10,
   "metadata": {},
   "outputs": [
    {
     "data": {
      "image/png": "[encoded data removed]",
      "text/latex": [
       "$$\\frac{K}{2} e^{- r t} \\operatorname{erfc}{\\left (\\frac{\\sqrt{2} r \\sqrt{t}}{2 \\sigma} - \\frac{\\sqrt{2} \\sigma}{4} \\sqrt{t} - \\frac{\\sqrt{2} \\log{\\left (K \\right )}}{2 \\sigma \\sqrt{t}} + \\frac{\\sqrt{2} \\log{\\left (S \\right )}}{2 \\sigma \\sqrt{t}} \\right )} - K e^{- r t} + \\frac{S}{2} \\operatorname{erf}{\\left (\\frac{\\sqrt{2} r \\sqrt{t}}{2 \\sigma} + \\frac{\\sqrt{2} \\sigma}{4} \\sqrt{t} - \\frac{\\sqrt{2} \\log{\\left (K \\right )}}{2 \\sigma \\sqrt{t}} + \\frac{\\sqrt{2} \\log{\\left (S \\right )}}{2 \\sigma \\sqrt{t}} \\right )} + \\frac{S}{2}$$"
      ],
      "text/plain": [
       "   -r⋅t     ⎛√2⋅r⋅√t   √2⋅σ⋅√t   √2⋅log(K)   √2⋅log(S)⎞                  ⎛√2⋅r\n",
       "K⋅ℯ    ⋅erfc⎜─────── - ─────── - ───────── + ─────────⎟             S⋅erf⎜────\n",
       "            ⎝  2⋅σ        4        2⋅σ⋅√t      2⋅σ⋅√t ⎠      -r⋅t        ⎝  2⋅\n",
       "─────────────────────────────────────────────────────── - K⋅ℯ     + ──────────\n",
       "                           2                                                  \n",
       "\n",
       "⋅√t   √2⋅σ⋅√t   √2⋅log(K)   √2⋅log(S)⎞    \n",
       "─── + ─────── - ───────── + ─────────⎟    \n",
       "σ        4        2⋅σ⋅√t      2⋅σ⋅√t ⎠   S\n",
       "────────────────────────────────────── + ─\n",
       "             2                           2"
      ]
     },
     "execution_count": 10,
     "metadata": {},
     "output_type": "execute_result"
    }
   ],
   "source": [
    "A.subs(a,ibound[x]).subs(delta,0).simplify().expand()"
   ]
  },
  {
   "cell_type": "code",
   "execution_count": null,
   "metadata": {},
   "outputs": [],
   "source": []
  }
 ],
 "metadata": {
  "@webio": {
   "lastCommId": null,
   "lastKernelId": null
  },
  "kernelspec": {
   "display_name": "Python 3",
   "language": "python",
   "name": "python3"
  },
  "language_info": {
   "codemirror_mode": {
    "name": "ipython",
    "version": 3
   },
   "file_extension": ".py",
   "mimetype": "text/x-python",
   "name": "python",
   "nbconvert_exporter": "python",
   "pygments_lexer": "ipython3",
   "version": "3.6.4"
  }
 },
 "nbformat": 4,
 "nbformat_minor": 1
}
