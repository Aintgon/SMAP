{
 "cells": [
  {
   "cell_type": "code",
   "execution_count": 1,
   "metadata": {},
   "outputs": [
    {
     "data": {
      "text/html": [
       "<style>.container { width:100% !important; }</style>"
      ],
      "text/plain": [
       "HTML{String}(\"<style>.container { width:100% !important; }</style>\")"
      ]
     },
     "metadata": {},
     "output_type": "display_data"
    }
   ],
   "source": [
    "display(HTML(\"<style>.container { width:100% !important; }</style>\"))"
   ]
  },
  {
   "cell_type": "markdown",
   "metadata": {},
   "source": [
    "#### MIT License (c) 2019 by Andrew Lyasoff"
   ]
  },
  {
   "cell_type": "markdown",
   "metadata": {},
   "source": [
    "#### Jupyter notebook written in the Julia 1.1.0. It illustrates some basic operations with large chunks of market data (extracted from public sources), creating histograms from the returns, and other similar operations."
   ]
  },
  {
   "cell_type": "markdown",
   "metadata": {},
   "source": [
    "First load the database library."
   ]
  },
  {
   "cell_type": "code",
   "execution_count": 1,
   "metadata": {},
   "outputs": [],
   "source": [
    "using Dates\n",
    "using JuliaDB"
   ]
  },
  {
   "cell_type": "markdown",
   "metadata": {},
   "source": [
    "The historical quotes are downloaded in .csv format from nasdaq.com and are placed\n",
    "in the directory \"HistoricalQuotes.\" Before those files can be used here they\n",
    "must be modified (slightly) in Excel, LibreOffice Calc, or a text editor (e.g., Emacs):\n",
    "there should be no empty line, or a line that contains a time-stamp (all lines except\n",
    "the first one must be identically formatted -- this may involve removing the second\n",
    "line in the spreadhseet). The data for all stocks can be stored in a single variable\n",
    "(note that HistoricalQuotes is the name of the sub-directory that contains all .csv files)."
   ]
  },
  {
   "cell_type": "code",
   "execution_count": 2,
   "metadata": {},
   "outputs": [
    {
     "data": {
      "text/plain": [
       "2-d NDSparse with 10076 values (5 field named tuples):\n",
       "ticker  date       │ close    volume     open     high     low\n",
       "───────────────────┼──────────────────────────────────────────────\n",
       "\"AAPL\"  2008-08-11 │ 24.7943  222653337  24.2957  25.2143  24.2386\n",
       "\"AAPL\"  2008-08-12 │ 25.2471  208987793  24.7886  25.6128  24.7871\n",
       "\"AAPL\"  2008-08-13 │ 25.6143  210556213  25.4257  25.7143  25.1286\n",
       "\"AAPL\"  2008-08-14 │ 25.6171  177684343  25.4757  25.7786  25.4057\n",
       "\"AAPL\"  2008-08-15 │ 25.1057  176996663  25.5771  25.6786  25.0071\n",
       "\"AAPL\"  2008-08-18 │ 25.0557  137832351  25.0814  25.4014  24.8314\n",
       "\"AAPL\"  2008-08-19 │ 24.79    153915766  24.9343  25.2957  24.5443\n",
       "\"AAPL\"  2008-08-20 │ 25.12    126718798  24.9676  25.2771  24.8014\n",
       "\"AAPL\"  2008-08-21 │ 24.8986  134917270  24.9243  25.0643  24.5557\n",
       "\"AAPL\"  2008-08-22 │ 25.2557  109873363  25.1171  25.3571  25.0814\n",
       "\"AAPL\"  2008-08-25 │ 24.65    121049286  25.1643  25.1757  24.5228\n",
       "\"AAPL\"  2008-08-26 │ 24.8057  111348823  24.68    24.9828  24.6586\n",
       "                   ⋮\n",
       "\"MSFT\"  2018-07-27 │ 107.68   36916780   110.18   110.18   106.14\n",
       "\"MSFT\"  2018-07-30 │ 105.37   34495720   107.19   107.53   104.76\n",
       "\"MSFT\"  2018-07-31 │ 106.08   27181070   106.49   106.72   105.38\n",
       "\"MSFT\"  2018-08-01 │ 106.28   23617980   106.03   106.446  105.42\n",
       "\"MSFT\"  2018-08-02 │ 107.57   26080740   105.4    108.09   104.84\n",
       "\"MSFT\"  2018-08-03 │ 108.04   18629310   107.8    108.05   106.82\n",
       "\"MSFT\"  2018-08-06 │ 108.13   20234680   108.12   108.42   107.559\n",
       "\"MSFT\"  2018-08-07 │ 108.88   16070070   108.56   109.1    108.17\n",
       "\"MSFT\"  2018-08-08 │ 109.49   15461420   109.33   109.75   108.76\n",
       "\"MSFT\"  2018-08-09 │ 109.67   13634510   109.71   110.16   109.6\n",
       "\"MSFT\"  2018-08-10 │ 109.0    18171350   109.42   109.69   108.38"
      ]
     },
     "execution_count": 2,
     "metadata": {},
     "output_type": "execute_result"
    }
   ],
   "source": [
    "stocksdata = loadndsparse(\"HistoricalQuotes\"; filenamecol = :ticker, indexcols = [:ticker, :date])"
   ]
  },
  {
   "cell_type": "markdown",
   "metadata": {},
   "source": [
    "The same database can now be saved in a special binary format that makes reloading at a later time very fast.  "
   ]
  },
  {
   "cell_type": "code",
   "execution_count": 3,
   "metadata": {},
   "outputs": [
    {
     "data": {
      "text/plain": [
       "2-d NDSparse with 10076 values (5 field named tuples):\n",
       "ticker  date       │ close    volume     open     high     low\n",
       "───────────────────┼──────────────────────────────────────────────\n",
       "\"AAPL\"  2008-08-11 │ 24.7943  222653337  24.2957  25.2143  24.2386\n",
       "\"AAPL\"  2008-08-12 │ 25.2471  208987793  24.7886  25.6128  24.7871\n",
       "\"AAPL\"  2008-08-13 │ 25.6143  210556213  25.4257  25.7143  25.1286\n",
       "\"AAPL\"  2008-08-14 │ 25.6171  177684343  25.4757  25.7786  25.4057\n",
       "\"AAPL\"  2008-08-15 │ 25.1057  176996663  25.5771  25.6786  25.0071\n",
       "\"AAPL\"  2008-08-18 │ 25.0557  137832351  25.0814  25.4014  24.8314\n",
       "\"AAPL\"  2008-08-19 │ 24.79    153915766  24.9343  25.2957  24.5443\n",
       "\"AAPL\"  2008-08-20 │ 25.12    126718798  24.9676  25.2771  24.8014\n",
       "\"AAPL\"  2008-08-21 │ 24.8986  134917270  24.9243  25.0643  24.5557\n",
       "\"AAPL\"  2008-08-22 │ 25.2557  109873363  25.1171  25.3571  25.0814\n",
       "\"AAPL\"  2008-08-25 │ 24.65    121049286  25.1643  25.1757  24.5228\n",
       "\"AAPL\"  2008-08-26 │ 24.8057  111348823  24.68    24.9828  24.6586\n",
       "                   ⋮\n",
       "\"MSFT\"  2018-07-27 │ 107.68   36916780   110.18   110.18   106.14\n",
       "\"MSFT\"  2018-07-30 │ 105.37   34495720   107.19   107.53   104.76\n",
       "\"MSFT\"  2018-07-31 │ 106.08   27181070   106.49   106.72   105.38\n",
       "\"MSFT\"  2018-08-01 │ 106.28   23617980   106.03   106.446  105.42\n",
       "\"MSFT\"  2018-08-02 │ 107.57   26080740   105.4    108.09   104.84\n",
       "\"MSFT\"  2018-08-03 │ 108.04   18629310   107.8    108.05   106.82\n",
       "\"MSFT\"  2018-08-06 │ 108.13   20234680   108.12   108.42   107.559\n",
       "\"MSFT\"  2018-08-07 │ 108.88   16070070   108.56   109.1    108.17\n",
       "\"MSFT\"  2018-08-08 │ 109.49   15461420   109.33   109.75   108.76\n",
       "\"MSFT\"  2018-08-09 │ 109.67   13634510   109.71   110.16   109.6\n",
       "\"MSFT\"  2018-08-10 │ 109.0    18171350   109.42   109.69   108.38"
      ]
     },
     "execution_count": 3,
     "metadata": {},
     "output_type": "execute_result"
    }
   ],
   "source": [
    "save(stocksdata, \"stocksdata.jdb\")"
   ]
  },
  {
   "cell_type": "code",
   "execution_count": 4,
   "metadata": {},
   "outputs": [
    {
     "name": "stdout",
     "output_type": "stream",
     "text": [
      "  0.006708 seconds (30.30 k allocations: 725.484 KiB)\n"
     ]
    },
    {
     "data": {
      "text/plain": [
       "2-d NDSparse with 10076 values (5 field named tuples):\n",
       "ticker  date       │ close    volume     open     high     low\n",
       "───────────────────┼──────────────────────────────────────────────\n",
       "\"AAPL\"  2008-08-11 │ 24.7943  222653337  24.2957  25.2143  24.2386\n",
       "\"AAPL\"  2008-08-12 │ 25.2471  208987793  24.7886  25.6128  24.7871\n",
       "\"AAPL\"  2008-08-13 │ 25.6143  210556213  25.4257  25.7143  25.1286\n",
       "\"AAPL\"  2008-08-14 │ 25.6171  177684343  25.4757  25.7786  25.4057\n",
       "\"AAPL\"  2008-08-15 │ 25.1057  176996663  25.5771  25.6786  25.0071\n",
       "\"AAPL\"  2008-08-18 │ 25.0557  137832351  25.0814  25.4014  24.8314\n",
       "\"AAPL\"  2008-08-19 │ 24.79    153915766  24.9343  25.2957  24.5443\n",
       "\"AAPL\"  2008-08-20 │ 25.12    126718798  24.9676  25.2771  24.8014\n",
       "\"AAPL\"  2008-08-21 │ 24.8986  134917270  24.9243  25.0643  24.5557\n",
       "\"AAPL\"  2008-08-22 │ 25.2557  109873363  25.1171  25.3571  25.0814\n",
       "\"AAPL\"  2008-08-25 │ 24.65    121049286  25.1643  25.1757  24.5228\n",
       "\"AAPL\"  2008-08-26 │ 24.8057  111348823  24.68    24.9828  24.6586\n",
       "                   ⋮\n",
       "\"MSFT\"  2018-07-27 │ 107.68   36916780   110.18   110.18   106.14\n",
       "\"MSFT\"  2018-07-30 │ 105.37   34495720   107.19   107.53   104.76\n",
       "\"MSFT\"  2018-07-31 │ 106.08   27181070   106.49   106.72   105.38\n",
       "\"MSFT\"  2018-08-01 │ 106.28   23617980   106.03   106.446  105.42\n",
       "\"MSFT\"  2018-08-02 │ 107.57   26080740   105.4    108.09   104.84\n",
       "\"MSFT\"  2018-08-03 │ 108.04   18629310   107.8    108.05   106.82\n",
       "\"MSFT\"  2018-08-06 │ 108.13   20234680   108.12   108.42   107.559\n",
       "\"MSFT\"  2018-08-07 │ 108.88   16070070   108.56   109.1    108.17\n",
       "\"MSFT\"  2018-08-08 │ 109.49   15461420   109.33   109.75   108.76\n",
       "\"MSFT\"  2018-08-09 │ 109.67   13634510   109.71   110.16   109.6\n",
       "\"MSFT\"  2018-08-10 │ 109.0    18171350   109.42   109.69   108.38"
      ]
     },
     "execution_count": 4,
     "metadata": {},
     "output_type": "execute_result"
    }
   ],
   "source": [
    "@time reloaded_stocksdata = load(\"stocksdata.jdb\")"
   ]
  },
  {
   "cell_type": "markdown",
   "metadata": {},
   "source": [
    "Check the saved database for consistency."
   ]
  },
  {
   "cell_type": "code",
   "execution_count": 5,
   "metadata": {},
   "outputs": [
    {
     "data": {
      "text/plain": [
       "true"
      ]
     },
     "execution_count": 5,
     "metadata": {},
     "output_type": "execute_result"
    }
   ],
   "source": [
    "stocksdata == reloaded_stocksdata"
   ]
  },
  {
   "cell_type": "markdown",
   "metadata": {},
   "source": [
    "Look up the data associated only with Apple (symbol AAPL):"
   ]
  },
  {
   "cell_type": "code",
   "execution_count": 6,
   "metadata": {},
   "outputs": [
    {
     "data": {
      "text/plain": [
       "1-d NDSparse with 2519 values (5 field named tuples):\n",
       "date       │ close    volume     open     high     low\n",
       "───────────┼──────────────────────────────────────────────\n",
       "2008-08-11 │ 24.7943  222653337  24.2957  25.2143  24.2386\n",
       "2008-08-12 │ 25.2471  208987793  24.7886  25.6128  24.7871\n",
       "2008-08-13 │ 25.6143  210556213  25.4257  25.7143  25.1286\n",
       "2008-08-14 │ 25.6171  177684343  25.4757  25.7786  25.4057\n",
       "2008-08-15 │ 25.1057  176996663  25.5771  25.6786  25.0071\n",
       "2008-08-18 │ 25.0557  137832351  25.0814  25.4014  24.8314\n",
       "2008-08-19 │ 24.79    153915766  24.9343  25.2957  24.5443\n",
       "2008-08-20 │ 25.12    126718798  24.9676  25.2771  24.8014\n",
       "2008-08-21 │ 24.8986  134917270  24.9243  25.0643  24.5557\n",
       "2008-08-22 │ 25.2557  109873363  25.1171  25.3571  25.0814\n",
       "2008-08-25 │ 24.65    121049286  25.1643  25.1757  24.5228\n",
       "2008-08-26 │ 24.8057  111348823  24.68    24.9828  24.6586\n",
       "           ⋮\n",
       "2018-07-27 │ 190.98   23975350   194.99   195.19   190.1\n",
       "2018-07-30 │ 189.91   20912890   191.9    192.2    189.07\n",
       "2018-07-31 │ 190.29   37847260   190.3    192.14   189.34\n",
       "2018-08-01 │ 201.5    67812280   199.13   201.76   197.31\n",
       "2018-08-02 │ 207.39   62317430   200.58   208.38   200.35\n",
       "2018-08-03 │ 207.99   33408050   207.03   208.74   205.48\n",
       "2018-08-06 │ 209.07   25396100   208.0    209.25   207.07\n",
       "2018-08-07 │ 207.11   25525650   209.32   209.5    206.76\n",
       "2018-08-08 │ 207.25   22493750   206.05   207.81   204.52\n",
       "2018-08-09 │ 208.88   23389530   207.28   209.78   207.2\n",
       "2018-08-10 │ 207.53   24592460   207.36   209.1    206.67"
      ]
     },
     "execution_count": 6,
     "metadata": {},
     "output_type": "execute_result"
    }
   ],
   "source": [
    "stocksdata[\"AAPL\",:]"
   ]
  },
  {
   "cell_type": "code",
   "execution_count": 7,
   "metadata": {},
   "outputs": [
    {
     "data": {
      "text/plain": [
       "2519"
      ]
     },
     "execution_count": 7,
     "metadata": {},
     "output_type": "execute_result"
    }
   ],
   "source": [
    "length(stocksdata[\"AAPL\",:])"
   ]
  },
  {
   "cell_type": "markdown",
   "metadata": {},
   "source": [
    "Similarly, look up the data linked to Microsoft. "
   ]
  },
  {
   "cell_type": "code",
   "execution_count": 8,
   "metadata": {},
   "outputs": [
    {
     "data": {
      "text/plain": [
       "1-d NDSparse with 2519 values (5 field named tuples):\n",
       "date       │ close   volume    open    high     low\n",
       "───────────┼───────────────────────────────────────────\n",
       "2008-08-11 │ 27.9    68729270  27.86   28.4     27.66\n",
       "2008-08-12 │ 28.12   62796400  27.78   28.36    27.58\n",
       "2008-08-13 │ 27.91   51162290  28.07   28.5     27.76\n",
       "2008-08-14 │ 27.91   49642110  27.82   28.28    27.56\n",
       "2008-08-15 │ 27.81   47266670  27.98   28.15    27.58\n",
       "2008-08-18 │ 27.69   38041010  27.78   28.05    27.55\n",
       "2008-08-19 │ 27.32   40307900  27.54   27.75    27.27\n",
       "2008-08-20 │ 27.29   41483210  27.535  27.58    27.17\n",
       "2008-08-21 │ 27.18   43614130  27.1    27.23    26.86\n",
       "2008-08-22 │ 27.84   47892790  27.23   27.88    27.22\n",
       "2008-08-25 │ 27.66   51372940  27.61   27.84    27.46\n",
       "2008-08-26 │ 27.27   44773030  27.58   27.72    27.17\n",
       "           ⋮\n",
       "2018-07-27 │ 107.68  36916780  110.18  110.18   106.14\n",
       "2018-07-30 │ 105.37  34495720  107.19  107.53   104.76\n",
       "2018-07-31 │ 106.08  27181070  106.49  106.72   105.38\n",
       "2018-08-01 │ 106.28  23617980  106.03  106.446  105.42\n",
       "2018-08-02 │ 107.57  26080740  105.4   108.09   104.84\n",
       "2018-08-03 │ 108.04  18629310  107.8   108.05   106.82\n",
       "2018-08-06 │ 108.13  20234680  108.12  108.42   107.559\n",
       "2018-08-07 │ 108.88  16070070  108.56  109.1    108.17\n",
       "2018-08-08 │ 109.49  15461420  109.33  109.75   108.76\n",
       "2018-08-09 │ 109.67  13634510  109.71  110.16   109.6\n",
       "2018-08-10 │ 109.0   18171350  109.42  109.69   108.38"
      ]
     },
     "execution_count": 8,
     "metadata": {},
     "output_type": "execute_result"
    }
   ],
   "source": [
    "stocksdata[\"MSFT\",:]"
   ]
  },
  {
   "cell_type": "code",
   "execution_count": 9,
   "metadata": {},
   "outputs": [
    {
     "data": {
      "text/plain": [
       "2519"
      ]
     },
     "execution_count": 9,
     "metadata": {},
     "output_type": "execute_result"
    }
   ],
   "source": [
    "length(stocksdata[\"MSFT\",:])"
   ]
  },
  {
   "cell_type": "markdown",
   "metadata": {},
   "source": [
    "Look up the price of Google on a particular date in the past:"
   ]
  },
  {
   "cell_type": "code",
   "execution_count": 10,
   "metadata": {},
   "outputs": [
    {
     "data": {
      "text/plain": [
       "(close = 234.3721, volume = 2191940, open = 231.8918, high = 235.5339, low = 231.7605)"
      ]
     },
     "execution_count": 10,
     "metadata": {},
     "output_type": "execute_result"
    }
   ],
   "source": [
    "stocksdata[\"GOOGL\", Date(2009,9,9)]"
   ]
  },
  {
   "cell_type": "code",
   "execution_count": 11,
   "metadata": {},
   "outputs": [
    {
     "data": {
      "text/plain": [
       "234.3721"
      ]
     },
     "execution_count": 11,
     "metadata": {},
     "output_type": "execute_result"
    }
   ],
   "source": [
    "stocksdata[\"GOOGL\", Date(2009,9,9)].close"
   ]
  },
  {
   "cell_type": "markdown",
   "metadata": {},
   "source": [
    "This is how one can look up only the closing prices of Amazon. "
   ]
  },
  {
   "cell_type": "code",
   "execution_count": 12,
   "metadata": {},
   "outputs": [
    {
     "data": {
      "text/plain": [
       "1-d NDSparse with 2519 values (Float64):\n",
       "date       │\n",
       "───────────┼────────\n",
       "2008-08-11 │ 88.09\n",
       "2008-08-12 │ 87.25\n",
       "2008-08-13 │ 86.69\n",
       "2008-08-14 │ 88.03\n",
       "2008-08-15 │ 86.4\n",
       "2008-08-18 │ 83.11\n",
       "2008-08-19 │ 81.29\n",
       "2008-08-20 │ 82.13\n",
       "2008-08-21 │ 83.26\n",
       "2008-08-22 │ 85.26\n",
       "2008-08-25 │ 82.85\n",
       "2008-08-26 │ 81.76\n",
       "           ⋮\n",
       "2018-07-27 │ 1817.27\n",
       "2018-07-30 │ 1779.22\n",
       "2018-07-31 │ 1777.44\n",
       "2018-08-01 │ 1797.17\n",
       "2018-08-02 │ 1834.33\n",
       "2018-08-03 │ 1823.29\n",
       "2018-08-06 │ 1847.75\n",
       "2018-08-07 │ 1862.48\n",
       "2018-08-08 │ 1886.52\n",
       "2018-08-09 │ 1898.52\n",
       "2018-08-10 │ 1886.3"
      ]
     },
     "execution_count": 12,
     "metadata": {},
     "output_type": "execute_result"
    }
   ],
   "source": [
    "selectvalues(stocksdata,:close)[\"AMZN\",:]"
   ]
  },
  {
   "cell_type": "code",
   "execution_count": 13,
   "metadata": {},
   "outputs": [
    {
     "data": {
      "text/plain": [
       "Tuple{String,Date}"
      ]
     },
     "execution_count": 13,
     "metadata": {},
     "output_type": "execute_result"
    }
   ],
   "source": [
    "keytype(stocksdata)"
   ]
  },
  {
   "cell_type": "markdown",
   "metadata": {},
   "source": [
    "Look up the dates for which the closing prices for Apple are available."
   ]
  },
  {
   "cell_type": "code",
   "execution_count": 14,
   "metadata": {},
   "outputs": [
    {
     "data": {
      "text/plain": [
       "2519-element Array{Date,1}:\n",
       " 2008-08-11\n",
       " 2008-08-12\n",
       " 2008-08-13\n",
       " 2008-08-14\n",
       " 2008-08-15\n",
       " 2008-08-18\n",
       " 2008-08-19\n",
       " 2008-08-20\n",
       " 2008-08-21\n",
       " 2008-08-22\n",
       " 2008-08-25\n",
       " 2008-08-26\n",
       " 2008-08-27\n",
       " ⋮         \n",
       " 2018-07-26\n",
       " 2018-07-27\n",
       " 2018-07-30\n",
       " 2018-07-31\n",
       " 2018-08-01\n",
       " 2018-08-02\n",
       " 2018-08-03\n",
       " 2018-08-06\n",
       " 2018-08-07\n",
       " 2018-08-08\n",
       " 2018-08-09\n",
       " 2018-08-10"
      ]
     },
     "execution_count": 14,
     "metadata": {},
     "output_type": "execute_result"
    }
   ],
   "source": [
    "AAPLdate=columns(stocksdata[\"AAPL\",:])[1]"
   ]
  },
  {
   "cell_type": "markdown",
   "metadata": {},
   "source": [
    "Look up the closing prices of Apple on those days."
   ]
  },
  {
   "cell_type": "code",
   "execution_count": 15,
   "metadata": {},
   "outputs": [
    {
     "data": {
      "text/plain": [
       "2519-element Array{Float64,1}:\n",
       "  24.7943\n",
       "  25.2471\n",
       "  25.6143\n",
       "  25.6171\n",
       "  25.1057\n",
       "  25.0557\n",
       "  24.79  \n",
       "  25.12  \n",
       "  24.8986\n",
       "  25.2557\n",
       "  24.65  \n",
       "  24.8057\n",
       "  24.9528\n",
       "   ⋮     \n",
       " 194.21  \n",
       " 190.98  \n",
       " 189.91  \n",
       " 190.29  \n",
       " 201.5   \n",
       " 207.39  \n",
       " 207.99  \n",
       " 209.07  \n",
       " 207.11  \n",
       " 207.25  \n",
       " 208.88  \n",
       " 207.53  "
      ]
     },
     "execution_count": 15,
     "metadata": {},
     "output_type": "execute_result"
    }
   ],
   "source": [
    "AAPLclose=columns(stocksdata[\"AAPL\",:])[2]"
   ]
  },
  {
   "cell_type": "code",
   "execution_count": 16,
   "metadata": {},
   "outputs": [
    {
     "data": {
      "text/plain": [
       "24.7943"
      ]
     },
     "execution_count": 16,
     "metadata": {},
     "output_type": "execute_result"
    }
   ],
   "source": [
    "stocksdata[\"AAPL\", Date(2008,8,11)].close"
   ]
  },
  {
   "cell_type": "markdown",
   "metadata": {},
   "source": [
    "Now we produce some plots. First load the library that contains the plotting functions. "
   ]
  },
  {
   "cell_type": "code",
   "execution_count": 17,
   "metadata": {},
   "outputs": [
    {
     "data": {
      "text/plain": [
       "Plots.PyPlotBackend()"
      ]
     },
     "execution_count": 17,
     "metadata": {},
     "output_type": "execute_result"
    }
   ],
   "source": [
    "using Plots\n",
    "pyplot()"
   ]
  },
  {
   "cell_type": "code",
   "execution_count": 18,
   "metadata": {},
   "outputs": [
    {
     "data": {
      "image/png": "[encoded data removed]"
     },
     "execution_count": 18,
     "metadata": {},
     "output_type": "execute_result"
    }
   ],
   "source": [
    "plot(AAPLdate, AAPLclose,label=\"AAPL closing price\")"
   ]
  },
  {
   "cell_type": "markdown",
   "metadata": {},
   "source": [
    "Calculate the daily returns of AAPL."
   ]
  },
  {
   "cell_type": "code",
   "execution_count": 19,
   "metadata": {},
   "outputs": [],
   "source": [
    "llc=length(AAPLclose);\n",
    "AAPLreturns=(AAPLclose[2:llc]-AAPLclose[1:llc-1])./AAPLclose[1:llc-1];"
   ]
  },
  {
   "cell_type": "code",
   "execution_count": 20,
   "metadata": {
    "scrolled": true
   },
   "outputs": [
    {
     "data": {
      "image/png": "[encoded data removed]"
     },
     "execution_count": 20,
     "metadata": {},
     "output_type": "execute_result"
    }
   ],
   "source": [
    "scatter(AAPLdate[2:llc],AAPLreturns,label=\"AAPL daily returns\",markersize=2)"
   ]
  },
  {
   "cell_type": "markdown",
   "metadata": {},
   "source": [
    "Now build the histogram from the returns using a custom made 'histogram' function\n",
    "(called 'hstgram' to avoid the confucion with the standard 'histogram').\n",
    "It takes as an input a single 1-dimensional array of data. The number of bins in\n",
    "the histogram is determined automatically by using the Diaconis-Friedman rule.\n",
    "The function returns two arrays: the mid-points of the bins and the (unnormalized)\n",
    "heights of the bars."
   ]
  },
  {
   "cell_type": "code",
   "execution_count": 21,
   "metadata": {},
   "outputs": [],
   "source": [
    "using StatsBase"
   ]
  },
  {
   "cell_type": "code",
   "execution_count": 22,
   "metadata": {},
   "outputs": [
    {
     "data": {
      "text/plain": [
       "hstgram (generic function with 1 method)"
      ]
     },
     "execution_count": 22,
     "metadata": {},
     "output_type": "execute_result"
    }
   ],
   "source": [
    "function hstgram(data_sample::Array{Float64,1})\n",
    "    data_sorted=sort(data_sample)\n",
    "    first=data_sorted[1]\n",
    "    last=data_sorted[end]\n",
    "    nmb=length(data_sorted)\n",
    "    IQR=percentile(data_sorted,75)-percentile(data_sorted,25)\n",
    "    bin_size_loc = 2*IQR*(nmb^(-1.0/3))\n",
    "    num_bins=Int(floor((last-first)/bin_size_loc))\n",
    "    bin_size=(last-first)/(num_bins)\n",
    "    bin_end_points=[first+(i-1)*bin_size for i=1:(num_bins+1)]\n",
    "    ahist_val=[length(data_sorted[data_sorted .< u]) for u in bin_end_points]\n",
    "    hist_val=[ahist_val[i+1]-ahist_val[i] for i=1:num_bins]\n",
    "    mid_bins=[first-bin_size/2+i*bin_size for i=1:num_bins]\n",
    "    return mid_bins, hist_val\n",
    "end"
   ]
  },
  {
   "cell_type": "markdown",
   "metadata": {},
   "source": [
    "Normalize the bars so that the area of the histogram equals 1."
   ]
  },
  {
   "cell_type": "code",
   "execution_count": 23,
   "metadata": {},
   "outputs": [],
   "source": [
    "U,V=hstgram(AAPLreturns);\n",
    "VV=V/(sum(V)*(U[2]-U[1]));"
   ]
  },
  {
   "cell_type": "code",
   "execution_count": 24,
   "metadata": {},
   "outputs": [
    {
     "data": {
      "image/png": "[encoded data removed]"
     },
     "execution_count": 24,
     "metadata": {},
     "output_type": "execute_result"
    }
   ],
   "source": [
    "plot(U,VV,line=(:sticks,0.75),label=\"\")\n",
    "xlabel!(\"returns\")\n",
    "ylabel!(\"normalized frequency\")\n",
    "title!(\"Histogram from the 10y daily returns from AAPL.\")"
   ]
  },
  {
   "cell_type": "markdown",
   "metadata": {},
   "source": [
    "The area of the histogram is indeed 1."
   ]
  },
  {
   "cell_type": "code",
   "execution_count": 25,
   "metadata": {},
   "outputs": [
    {
     "data": {
      "text/plain": [
       "1.0"
      ]
     },
     "execution_count": 25,
     "metadata": {},
     "output_type": "execute_result"
    }
   ],
   "source": [
    "sum(VV)*(U[2]-U[1])"
   ]
  },
  {
   "cell_type": "markdown",
   "metadata": {},
   "source": [
    "Here is another way to plot the same histogram:"
   ]
  },
  {
   "cell_type": "code",
   "execution_count": 26,
   "metadata": {},
   "outputs": [
    {
     "data": {
      "image/png": "[encoded data removed]"
     },
     "execution_count": 26,
     "metadata": {},
     "output_type": "execute_result"
    }
   ],
   "source": [
    "plot(U.+(U[2]-U[1])/2,VV,label=\"\",line=(:steppre,1),linewidth=0.05)\n",
    "xlabel!(\"samples\")\n",
    "ylabel!(\"normalized frequency\")"
   ]
  },
  {
   "cell_type": "markdown",
   "metadata": {},
   "source": [
    "The bars in the histogram can be normalized to give the probabilities for hitting the bins:"
   ]
  },
  {
   "cell_type": "code",
   "execution_count": 28,
   "metadata": {},
   "outputs": [
    {
     "data": {
      "image/png": "[encoded data removed]"
     },
     "execution_count": 28,
     "metadata": {},
     "output_type": "execute_result"
    }
   ],
   "source": [
    "VVV=V/sum(V);\n",
    "plot(U.+(U[2]-U[1])/2,VVV,label=\"\",line=(:steppre,1),linewidth=0.05)\n",
    "xlabel!(\"samples\")\n",
    "ylabel!(\"probability\")"
   ]
  },
  {
   "cell_type": "markdown",
   "metadata": {},
   "source": [
    "The probabilities do sum to 1."
   ]
  },
  {
   "cell_type": "code",
   "execution_count": 29,
   "metadata": {},
   "outputs": [
    {
     "data": {
      "text/plain": [
       "1.0"
      ]
     },
     "execution_count": 29,
     "metadata": {},
     "output_type": "execute_result"
    }
   ],
   "source": [
    "sum(VVV)"
   ]
  },
  {
   "cell_type": "code",
   "execution_count": null,
   "metadata": {},
   "outputs": [],
   "source": []
  }
 ],
 "metadata": {
  "@webio": {
   "lastCommId": null,
   "lastKernelId": null
  },
  "kernelspec": {
   "display_name": "Julia 1.1.0",
   "language": "julia",
   "name": "julia-1.1"
  },
  "language_info": {
   "file_extension": ".jl",
   "mimetype": "application/julia",
   "name": "julia",
   "version": "1.1.0"
  }
 },
 "nbformat": 4,
 "nbformat_minor": 2
}
